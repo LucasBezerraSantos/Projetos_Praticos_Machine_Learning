{
 "cells": [
  {
   "cell_type": "markdown",
   "metadata": {
    "colab_type": "text",
    "id": "view-in-github"
   },
   "source": [
    "<a href=\"https://colab.research.google.com/github/LucasBezerraSantos/Alura_Machine_Learning/blob/master/Deteccao_de_fraude.ipynb\" target=\"_parent\"><img src=\"https://colab.research.google.com/assets/colab-badge.svg\" alt=\"Open In Colab\"/></a>"
   ]
  },
  {
   "cell_type": "markdown",
   "metadata": {
    "id": "9h7IVBSvihon"
   },
   "source": [
    "# Detecção de Fraude Bancária\n",
    "\n",
    "O presente projeto tem como objetivo criar um modelo de Machine Learning capaz de detectar e classificar ocorrências de fraude bancária. Devido à grande quantidade de transações realizadas em bancos, não é possível investigar com eficiência todos os registros e classificá-los sem auxílio da tecnologia. Porém, através de técnicas de aprendizado de máquina (Machine Learning), é possível construir um modelo que reconheça padrões inadequados nas transações e informe as ocorrências de fraude.\n",
    "\n",
    "Para a definição das regras que constituem fraude, deve-se realizar um trabalho conjunto com as áreas de negócio, assim como também deve haver um estudo das características comuns dos principais casos de fraude detectados pela empresa.\n",
    "\n",
    "Após a definição das regras, inicia-se o processo de **ETL** (Extração, Transformação e Leitura de Dados) para construção da Base de Dados. As etapas seguintes para o desenvolvimento da solução seguem a metodologia de Projetos e Mineração de Dados **CRISP-DM**:\n",
    "\n",
    "1.   Entendimento do Negócio.\n",
    "2.   Entendimento dos Dados.\n",
    "3.   Preparação dos Dados.\n",
    "4.   Modelagem.\n",
    "5.   Avaliação.\n",
    "6.   Implantação.\n",
    "\n",
    "OBS *Cada funcionalidade utilizada abaixo pode ser lida através da documentação oficial na internet, devido este projeto se ater ao estudo de caso, o ensino das funcionalidades da linguagem não é apresentado.*"
   ]
  },
  {
   "cell_type": "markdown",
   "metadata": {
    "id": "Pk_b0-8u3FJP"
   },
   "source": [
    "## Etapa I - Leitura e Tratamento de Dados (modelagem)\n",
    "\n",
    "Nesta etapa o conjunto de dados é avaliado. A etapa de tratamento e transformação de dados é crucial no processo de Machine Learning. Ela envolve a limpeza dos dados, removendo valores ausentes ou inconsistentes, assim como a padronização e normalização das variáveis. Além disso, é nessa etapa que ocorre a codificação de variáveis categóricas e a seleção de features relevantes. Essas transformações garantem a qualidade dos dados utilizados para treinar o modelo e aumentam sua capacidade de generalização."
   ]
  },
  {
   "cell_type": "markdown",
   "metadata": {
    "id": "VdRtKIxEvq8_"
   },
   "source": [
    "### Leitura de Dados"
   ]
  },
  {
   "cell_type": "markdown",
   "metadata": {
    "id": "VvDOxrQbrp1P"
   },
   "source": [
    "**O conjunto de dados é composto pelas seguintes informações:**\n",
    "\n",
    "`Passo` - Unidade de Tempo (1 hora)\n",
    "\n",
    "`tipo` - CASH-IN, CASH-OUT, DÉBITO, PAGAMENTO e TRANSFERÊNCIA.\n",
    "\n",
    "`Valor` - Valor da transação em moeda local.\n",
    "\n",
    "`nameOrig` - originador da transação\n",
    "\n",
    "`oldbalanceOrg` - saldo inicial (antes da transação)\n",
    "\n",
    "`newbalanceOrig` - novo saldo (após transação)\n",
    "\n",
    "`nameDest` - destinatário da transação\n",
    "\n",
    "`oldbalanceDest` - saldo inicial antes da transação.\n",
    "\n",
    "`newbalanceDest` - novo saldo após a transação.\n",
    "\n",
    "`isFraud` - O agente de fraude assume o controle das contas dos clientes e tenta esvaziá-las transferindo para outra conta e, em seguida, sacando.\n",
    "\n",
    "`isFlaggedFraud` - Uma tentativa ilegal de transferir uma enorme quantidade de dinheiro em uma única transação.\n",
    "\n",
    "Fonte: https://www.kaggle.com/datasets/gopalmahadevan/fraud-detection-example\n"
   ]
  },
  {
   "cell_type": "markdown",
   "metadata": {
    "id": "TRv0RXxLpeB5"
   },
   "source": [
    "São importadas as Bibliotécas Python para trabalhar com os dados."
   ]
  },
  {
   "cell_type": "code",
   "execution_count": 1,
   "metadata": {
    "id": "A8LvYkrI3igk"
   },
   "outputs": [],
   "source": [
    "import pandas as pd\n",
    "import numpy as np\n",
    "import matplotlib.pyplot as plt"
   ]
  },
  {
   "cell_type": "markdown",
   "metadata": {
    "id": "SlpOCuRMp2ah"
   },
   "source": [
    "O conjunto de dados é armazenado na variável \"dados\" através do link com a função read_csv."
   ]
  },
  {
   "cell_type": "code",
   "execution_count": 2,
   "metadata": {
    "id": "HCRu2yZiZHz2"
   },
   "outputs": [],
   "source": [
    "dados = pd.read_csv('C:/Users/Lucas/OneDrive/fraud_dataset_example.csv')"
   ]
  },
  {
   "cell_type": "markdown",
   "metadata": {
    "id": "nu01k2inqRFk"
   },
   "source": [
    "### Transformação de Dados\n",
    "\n",
    "Essa etapa é muito importante para limpeza, regularização e organização das informações"
   ]
  },
  {
   "cell_type": "markdown",
   "metadata": {
    "id": "NguKY5O-coqF"
   },
   "source": [
    "Abaixo as colunas do conjunto de dados são reordenadas para que as informações de fraude estejam na primeira posição.\n",
    "\n"
   ]
  },
  {
   "cell_type": "code",
   "execution_count": 3,
   "metadata": {
    "id": "dw7--BTwba4M"
   },
   "outputs": [],
   "source": [
    "dados = dados[['isFraud', 'isFlaggedFraud', 'step', 'type', 'amount', 'nameOrig', 'oldbalanceOrg', 'newbalanceOrig',\n",
    "       'nameDest', 'oldbalanceDest', 'newbalanceDest']]"
   ]
  },
  {
   "cell_type": "markdown",
   "metadata": {
    "id": "f-3VAsJaq_14"
   },
   "source": [
    "A seguir é feita a tradução dos nomes de colunas para **Português**, com o objetivo de facilitar a leitura."
   ]
  },
  {
   "cell_type": "code",
   "execution_count": 4,
   "metadata": {
    "id": "vtfHMb6YJdUM"
   },
   "outputs": [],
   "source": [
    "colunas = {\n",
    "    'isFraud': 'fraude',\n",
    "    'isFlaggedFraud':'super_fraude',\n",
    "    'step':'tempo',\n",
    "    'type':'tipo',\n",
    "    'amount':'valor',\n",
    "    'nameOrig':'cliente1',\n",
    "    'oldbalanceOrg':'saldo_inicial_c1',\n",
    "    'newbalanceOrig':'novo_saldo_c1',\n",
    "    'nameDest':'cliente2',\n",
    "    'oldbalanceDest':'saldo_inicial_c2',\n",
    "    'newbalanceDest':'novo_saldo_c2',\n",
    "}"
   ]
  },
  {
   "cell_type": "markdown",
   "metadata": {
    "id": "tG_H1Ek6vwgt"
   },
   "source": [
    "Tradução de colunas"
   ]
  },
  {
   "cell_type": "code",
   "execution_count": 5,
   "metadata": {
    "colab": {
     "base_uri": "https://localhost:8080/",
     "height": 0
    },
    "id": "2I55btjqckAj",
    "outputId": "4ce12788-f2f3-46b0-ea19-fa413664fb40"
   },
   "outputs": [
    {
     "data": {
      "text/html": [
       "<div>\n",
       "<style scoped>\n",
       "    .dataframe tbody tr th:only-of-type {\n",
       "        vertical-align: middle;\n",
       "    }\n",
       "\n",
       "    .dataframe tbody tr th {\n",
       "        vertical-align: top;\n",
       "    }\n",
       "\n",
       "    .dataframe thead th {\n",
       "        text-align: right;\n",
       "    }\n",
       "</style>\n",
       "<table border=\"1\" class=\"dataframe\">\n",
       "  <thead>\n",
       "    <tr style=\"text-align: right;\">\n",
       "      <th></th>\n",
       "      <th>fraude</th>\n",
       "      <th>super_fraude</th>\n",
       "      <th>tempo</th>\n",
       "      <th>tipo</th>\n",
       "      <th>valor</th>\n",
       "      <th>cliente1</th>\n",
       "      <th>saldo_inicial_c1</th>\n",
       "      <th>novo_saldo_c1</th>\n",
       "      <th>cliente2</th>\n",
       "      <th>saldo_inicial_c2</th>\n",
       "      <th>novo_saldo_c2</th>\n",
       "    </tr>\n",
       "  </thead>\n",
       "  <tbody>\n",
       "    <tr>\n",
       "      <th>0</th>\n",
       "      <td>0</td>\n",
       "      <td>0</td>\n",
       "      <td>1</td>\n",
       "      <td>PAYMENT</td>\n",
       "      <td>9839.64</td>\n",
       "      <td>C1231006815</td>\n",
       "      <td>170136.0</td>\n",
       "      <td>160296.36</td>\n",
       "      <td>M1979787155</td>\n",
       "      <td>0.0</td>\n",
       "      <td>0.0</td>\n",
       "    </tr>\n",
       "    <tr>\n",
       "      <th>1</th>\n",
       "      <td>0</td>\n",
       "      <td>0</td>\n",
       "      <td>1</td>\n",
       "      <td>PAYMENT</td>\n",
       "      <td>1864.28</td>\n",
       "      <td>C1666544295</td>\n",
       "      <td>21249.0</td>\n",
       "      <td>19384.72</td>\n",
       "      <td>M2044282225</td>\n",
       "      <td>0.0</td>\n",
       "      <td>0.0</td>\n",
       "    </tr>\n",
       "    <tr>\n",
       "      <th>2</th>\n",
       "      <td>1</td>\n",
       "      <td>0</td>\n",
       "      <td>1</td>\n",
       "      <td>TRANSFER</td>\n",
       "      <td>181.00</td>\n",
       "      <td>C1305486145</td>\n",
       "      <td>181.0</td>\n",
       "      <td>0.00</td>\n",
       "      <td>C553264065</td>\n",
       "      <td>0.0</td>\n",
       "      <td>0.0</td>\n",
       "    </tr>\n",
       "    <tr>\n",
       "      <th>3</th>\n",
       "      <td>1</td>\n",
       "      <td>0</td>\n",
       "      <td>1</td>\n",
       "      <td>CASH_OUT</td>\n",
       "      <td>181.00</td>\n",
       "      <td>C840083671</td>\n",
       "      <td>181.0</td>\n",
       "      <td>0.00</td>\n",
       "      <td>C38997010</td>\n",
       "      <td>21182.0</td>\n",
       "      <td>0.0</td>\n",
       "    </tr>\n",
       "    <tr>\n",
       "      <th>4</th>\n",
       "      <td>0</td>\n",
       "      <td>0</td>\n",
       "      <td>1</td>\n",
       "      <td>PAYMENT</td>\n",
       "      <td>11668.14</td>\n",
       "      <td>C2048537720</td>\n",
       "      <td>41554.0</td>\n",
       "      <td>29885.86</td>\n",
       "      <td>M1230701703</td>\n",
       "      <td>0.0</td>\n",
       "      <td>0.0</td>\n",
       "    </tr>\n",
       "  </tbody>\n",
       "</table>\n",
       "</div>"
      ],
      "text/plain": [
       "   fraude  super_fraude  tempo      tipo     valor     cliente1  \\\n",
       "0       0             0      1   PAYMENT   9839.64  C1231006815   \n",
       "1       0             0      1   PAYMENT   1864.28  C1666544295   \n",
       "2       1             0      1  TRANSFER    181.00  C1305486145   \n",
       "3       1             0      1  CASH_OUT    181.00   C840083671   \n",
       "4       0             0      1   PAYMENT  11668.14  C2048537720   \n",
       "\n",
       "   saldo_inicial_c1  novo_saldo_c1     cliente2  saldo_inicial_c2  \\\n",
       "0          170136.0      160296.36  M1979787155               0.0   \n",
       "1           21249.0       19384.72  M2044282225               0.0   \n",
       "2             181.0           0.00   C553264065               0.0   \n",
       "3             181.0           0.00    C38997010           21182.0   \n",
       "4           41554.0       29885.86  M1230701703               0.0   \n",
       "\n",
       "   novo_saldo_c2  \n",
       "0            0.0  \n",
       "1            0.0  \n",
       "2            0.0  \n",
       "3            0.0  \n",
       "4            0.0  "
      ]
     },
     "execution_count": 5,
     "metadata": {},
     "output_type": "execute_result"
    }
   ],
   "source": [
    "dados = dados.rename(columns = colunas)\n",
    "dados.head()"
   ]
  },
  {
   "cell_type": "markdown",
   "metadata": {
    "id": "Q9coqJBeeB1b"
   },
   "source": [
    "Verificando se há dados nulos: valores nulos com grande frequência dificultam o reconhecimento de padrões e por esse motivo, se houver, devem ser regularizados."
   ]
  },
  {
   "cell_type": "code",
   "execution_count": 6,
   "metadata": {
    "colab": {
     "base_uri": "https://localhost:8080/"
    },
    "id": "HW2PP8jedApV",
    "outputId": "b64989db-dc00-4623-b2e3-27cf7b322fe0"
   },
   "outputs": [
    {
     "data": {
      "text/plain": [
       "fraude              0\n",
       "super_fraude        0\n",
       "tempo               0\n",
       "tipo                0\n",
       "valor               0\n",
       "cliente1            0\n",
       "saldo_inicial_c1    0\n",
       "novo_saldo_c1       0\n",
       "cliente2            0\n",
       "saldo_inicial_c2    0\n",
       "novo_saldo_c2       0\n",
       "dtype: int64"
      ]
     },
     "execution_count": 6,
     "metadata": {},
     "output_type": "execute_result"
    }
   ],
   "source": [
    "dados.isnull().sum() # contabiliza a quantidade de valores nulos"
   ]
  },
  {
   "cell_type": "markdown",
   "metadata": {
    "id": "3RZr89QZv107"
   },
   "source": [
    "Limpeza de dados\n",
    "\n",
    "Existem informações que não contribuem para o aprendizado de máquina, por exemplo o \"nome do cliente\". Deve-se simplificar a base de dados para que o algoritmo busque padrões de fraude e os replique para casos futuros. O nome é subjetivo, e uma transação não pode ser classificada com base no nome de pessoas, por esse motivo essa informação é excluida do conjunto de dados.\n",
    "\n",
    "A coluna \"superfraude\" também é excluida porque não há registros."
   ]
  },
  {
   "cell_type": "code",
   "execution_count": 7,
   "metadata": {
    "id": "7wMJV2k9HSDM"
   },
   "outputs": [],
   "source": [
    "dados = dados.drop(['cliente1', 'cliente2', 'super_fraude'], axis = 1)"
   ]
  },
  {
   "cell_type": "markdown",
   "metadata": {
    "id": "xEUgD8RBv-H7"
   },
   "source": [
    "Encoding\n",
    "\n",
    "A codificação (encoding) é essencial em Machine Learning para transformar dados categóricos em formatos numéricos compreensíveis pelos algoritmos. Isso permite que as informações relevantes sejam consideradas durante o treinamento dos modelos. A codificação adequada ajuda a evitar a perda de informações e melhora a precisão dos resultados. \"Grosso modo\" um exemplo de codificação é atribuir 1 quando acontecer um evento e 0 quando não ocorrer, deste modo o algoritmo poderá aprender com os padrões dos eventos.\n",
    "\n",
    "\n",
    "\n",
    "\n"
   ]
  },
  {
   "cell_type": "code",
   "execution_count": 8,
   "metadata": {
    "colab": {
     "base_uri": "https://localhost:8080/",
     "height": 0
    },
    "id": "f8KwYrMoJztc",
    "outputId": "7da9b9ff-97f1-4b0e-9fd6-d6f3d72315da"
   },
   "outputs": [
    {
     "data": {
      "text/html": [
       "<div>\n",
       "<style scoped>\n",
       "    .dataframe tbody tr th:only-of-type {\n",
       "        vertical-align: middle;\n",
       "    }\n",
       "\n",
       "    .dataframe tbody tr th {\n",
       "        vertical-align: top;\n",
       "    }\n",
       "\n",
       "    .dataframe thead th {\n",
       "        text-align: right;\n",
       "    }\n",
       "</style>\n",
       "<table border=\"1\" class=\"dataframe\">\n",
       "  <thead>\n",
       "    <tr style=\"text-align: right;\">\n",
       "      <th></th>\n",
       "      <th>fraude</th>\n",
       "      <th>tempo</th>\n",
       "      <th>valor</th>\n",
       "      <th>saldo_inicial_c1</th>\n",
       "      <th>novo_saldo_c1</th>\n",
       "      <th>saldo_inicial_c2</th>\n",
       "      <th>novo_saldo_c2</th>\n",
       "      <th>tipo_CASH_IN</th>\n",
       "      <th>tipo_CASH_OUT</th>\n",
       "      <th>tipo_DEBIT</th>\n",
       "      <th>tipo_PAYMENT</th>\n",
       "      <th>tipo_TRANSFER</th>\n",
       "    </tr>\n",
       "  </thead>\n",
       "  <tbody>\n",
       "    <tr>\n",
       "      <th>0</th>\n",
       "      <td>0</td>\n",
       "      <td>1</td>\n",
       "      <td>9839.64</td>\n",
       "      <td>170136.0</td>\n",
       "      <td>160296.36</td>\n",
       "      <td>0.0</td>\n",
       "      <td>0.0</td>\n",
       "      <td>0</td>\n",
       "      <td>0</td>\n",
       "      <td>0</td>\n",
       "      <td>1</td>\n",
       "      <td>0</td>\n",
       "    </tr>\n",
       "    <tr>\n",
       "      <th>1</th>\n",
       "      <td>0</td>\n",
       "      <td>1</td>\n",
       "      <td>1864.28</td>\n",
       "      <td>21249.0</td>\n",
       "      <td>19384.72</td>\n",
       "      <td>0.0</td>\n",
       "      <td>0.0</td>\n",
       "      <td>0</td>\n",
       "      <td>0</td>\n",
       "      <td>0</td>\n",
       "      <td>1</td>\n",
       "      <td>0</td>\n",
       "    </tr>\n",
       "    <tr>\n",
       "      <th>2</th>\n",
       "      <td>1</td>\n",
       "      <td>1</td>\n",
       "      <td>181.00</td>\n",
       "      <td>181.0</td>\n",
       "      <td>0.00</td>\n",
       "      <td>0.0</td>\n",
       "      <td>0.0</td>\n",
       "      <td>0</td>\n",
       "      <td>0</td>\n",
       "      <td>0</td>\n",
       "      <td>0</td>\n",
       "      <td>1</td>\n",
       "    </tr>\n",
       "    <tr>\n",
       "      <th>3</th>\n",
       "      <td>1</td>\n",
       "      <td>1</td>\n",
       "      <td>181.00</td>\n",
       "      <td>181.0</td>\n",
       "      <td>0.00</td>\n",
       "      <td>21182.0</td>\n",
       "      <td>0.0</td>\n",
       "      <td>0</td>\n",
       "      <td>1</td>\n",
       "      <td>0</td>\n",
       "      <td>0</td>\n",
       "      <td>0</td>\n",
       "    </tr>\n",
       "    <tr>\n",
       "      <th>4</th>\n",
       "      <td>0</td>\n",
       "      <td>1</td>\n",
       "      <td>11668.14</td>\n",
       "      <td>41554.0</td>\n",
       "      <td>29885.86</td>\n",
       "      <td>0.0</td>\n",
       "      <td>0.0</td>\n",
       "      <td>0</td>\n",
       "      <td>0</td>\n",
       "      <td>0</td>\n",
       "      <td>1</td>\n",
       "      <td>0</td>\n",
       "    </tr>\n",
       "  </tbody>\n",
       "</table>\n",
       "</div>"
      ],
      "text/plain": [
       "   fraude  tempo     valor  saldo_inicial_c1  novo_saldo_c1  saldo_inicial_c2  \\\n",
       "0       0      1   9839.64          170136.0      160296.36               0.0   \n",
       "1       0      1   1864.28           21249.0       19384.72               0.0   \n",
       "2       1      1    181.00             181.0           0.00               0.0   \n",
       "3       1      1    181.00             181.0           0.00           21182.0   \n",
       "4       0      1  11668.14           41554.0       29885.86               0.0   \n",
       "\n",
       "   novo_saldo_c2  tipo_CASH_IN  tipo_CASH_OUT  tipo_DEBIT  tipo_PAYMENT  \\\n",
       "0            0.0             0              0           0             1   \n",
       "1            0.0             0              0           0             1   \n",
       "2            0.0             0              0           0             0   \n",
       "3            0.0             0              1           0             0   \n",
       "4            0.0             0              0           0             1   \n",
       "\n",
       "   tipo_TRANSFER  \n",
       "0              0  \n",
       "1              0  \n",
       "2              1  \n",
       "3              0  \n",
       "4              0  "
      ]
     },
     "execution_count": 8,
     "metadata": {},
     "output_type": "execute_result"
    }
   ],
   "source": [
    "dados = pd.get_dummies(data=dados, columns=['tipo'], dtype=int)\n",
    "dados.head()\n",
    "# a coluna tipo é separada e codificada de acordo com a ocorrência do tipo de transação"
   ]
  },
  {
   "cell_type": "markdown",
   "metadata": {
    "id": "nUPctFk0wNzt"
   },
   "source": [
    "##Etapa II - Treino e Teste\n",
    "\n",
    "A etapa de treino e teste é fundamental no desenvolvimento de Machine Learning. Durante o treino, um modelo é alimentado com dados de treinamento para aprender padrões e relacionamentos entre as variáveis. Após o treinamento, o modelo é avaliado usando um conjunto separado de dados de teste para medir sua capacidade de generalização. A divisão entre treino e teste ajuda a verificar se o modelo está performando bem em dados não vistos previamente. Essa etapa é importante para evitar overfitting, onde o modelo se ajusta demais aos dados de treinamento e não consegue generalizar para novos dados.\n",
    "\n",
    "\n",
    "\n",
    "\n"
   ]
  },
  {
   "cell_type": "markdown",
   "metadata": {
    "id": "rLWT6FPO2i9v"
   },
   "source": [
    "Abaixo os dados de treinamento do algoritmo são armazenados em X e a variável alvo, que contém as informações de fraude, são armazenadas em y."
   ]
  },
  {
   "cell_type": "code",
   "execution_count": 9,
   "metadata": {
    "id": "9169onCQLOcO"
   },
   "outputs": [],
   "source": [
    "X = dados.drop(columns='fraude', axis=1 )\n",
    "y = dados.fraude"
   ]
  },
  {
   "cell_type": "code",
   "execution_count": 10,
   "metadata": {
    "id": "LqBd5sOvNSpC"
   },
   "outputs": [],
   "source": [
    "# chamada de recursos da bibliotéca sklearn para aplicação do modelo de Regressão Logística\n",
    "\n",
    "from sklearn.model_selection import train_test_split\n",
    "from sklearn.linear_model import LogisticRegression\n",
    "from sklearn import metrics"
   ]
  },
  {
   "cell_type": "code",
   "execution_count": 11,
   "metadata": {
    "id": "KXjaFFDuN6FI"
   },
   "outputs": [],
   "source": [
    "# definição de parâmetros do modelo\n",
    "\n",
    "SEED = 42\n",
    "lr = LogisticRegression(max_iter=1000, random_state=SEED)"
   ]
  },
  {
   "cell_type": "markdown",
   "metadata": {
    "id": "x0jmmYFz3YFe"
   },
   "source": [
    "Abaixo, o conjunto de dados é separado em grupos diferentes para aplicação de modo particionado e depois validado com dados não vistos."
   ]
  },
  {
   "cell_type": "code",
   "execution_count": 12,
   "metadata": {
    "colab": {
     "base_uri": "https://localhost:8080/"
    },
    "id": "q74Kh204Newg",
    "outputId": "e750e5ce-c10c-4474-8ae7-f02a6ff46108"
   },
   "outputs": [
    {
     "name": "stdout",
     "output_type": "stream",
     "text": [
      "Acuracia: 1.00 \n",
      "Precisao: 0.20 \n",
      "Sensibilidade: 0.04 \n",
      "f1_score: 0.07 \n",
      "\n"
     ]
    }
   ],
   "source": [
    "X_train, X_test, y_train, y_test = train_test_split(\n",
    "...     X, y, test_size=0.25, random_state=SEED)\n",
    "\n",
    "lr.fit(X_train, y_train)\n",
    "previsoes = lr.predict(X_test)\n",
    "\n",
    "acuracia = metrics.accuracy_score(y_test, previsoes)\n",
    "precisao = metrics.precision_score(y_test, previsoes)\n",
    "sensibilidade = metrics.recall_score(y_test, previsoes)\n",
    "f1_score = metrics.f1_score(y_test, previsoes)\n",
    "\n",
    "print(\n",
    "    f'Acuracia: {acuracia:.2f} \\n'\n",
    "    f'Precisao: {precisao:.2f} \\n'\n",
    "    f'Sensibilidade: {sensibilidade:.2f} \\n'\n",
    "    f'f1_score: {f1_score:.2f} \\n'\n",
    "      )"
   ]
  },
  {
   "cell_type": "markdown",
   "metadata": {
    "id": "BBVE0RI34XJG"
   },
   "source": [
    "A avaliação de resultados é um ponto muito importante em ciência de dados, com frequência, resultados \"perfeitos\" indicam que são \"imperfeitos\". Acima, o resultado aponta 100% de acurácia, isso significa que o modelo conseguiu classificar todos os dados \"corretamente\", mas ele foi apenas 20% preciso, e teve apenas 4% de sensibilidade.\n",
    "\n",
    "Ver: https://towardsdatascience.com/accuracy-precision-recall-or-f1-331fb37c5cb9"
   ]
  },
  {
   "cell_type": "markdown",
   "metadata": {
    "id": "9zljxHg9wfZD"
   },
   "source": [
    "### Visualização"
   ]
  },
  {
   "cell_type": "code",
   "execution_count": 13,
   "metadata": {
    "id": "URRTKg16RFNZ"
   },
   "outputs": [],
   "source": [
    "import matplotlib.pyplot as plt\n",
    "from sklearn.metrics import confusion_matrix\n",
    "from sklearn.metrics import ConfusionMatrixDisplay\n",
    "from sklearn.datasets import make_classification\n",
    "%matplotlib inline"
   ]
  },
  {
   "cell_type": "markdown",
   "metadata": {
    "id": "r3hFgeWf58oX"
   },
   "source": [
    "`Abaixo é apresentada a Matriz de Confusão, ela contém as seguintes informações:`\n",
    "\n",
    "O primeiro quadrado mostra os **VERDADEIROS NEGATIVOS**: O número de registros classificados corretamente sem Fraude.\n",
    "\n",
    "O segundo quadrado mostra os **FALSOS POSITIVOS**: O número de registros acusados como fraude indevidamente.\n",
    "\n",
    "O terceiro quadrado mostra os **FALSOS NEGATIVOS**: O número de registros que possuem Fraude mas não foram classificados corretamente pelo modelo.\n",
    "\n",
    "O quarto quadrado mostra os **VERDADEIROS POSITIVOS**: Número de casos de fraude identificados corretamente."
   ]
  },
  {
   "cell_type": "code",
   "execution_count": 14,
   "metadata": {
    "colab": {
     "base_uri": "https://localhost:8080/",
     "height": 0
    },
    "id": "28BXpJm0RaRz",
    "outputId": "ce86231c-5e1d-482e-9ff8-b7a183539228"
   },
   "outputs": [
    {
     "data": {
      "text/plain": [
       "<sklearn.metrics._plot.confusion_matrix.ConfusionMatrixDisplay at 0x1f242ae46a0>"
      ]
     },
     "execution_count": 14,
     "metadata": {},
     "output_type": "execute_result"
    },
    {
     "data": {
      "image/png": "[encoded data removed]",
      "text/plain": [
       "<Figure size 640x480 with 2 Axes>"
      ]
     },
     "metadata": {},
     "output_type": "display_data"
    }
   ],
   "source": [
    "cm = confusion_matrix(y_test, previsoes)\n",
    "disp = ConfusionMatrixDisplay(confusion_matrix=cm)\n",
    "disp.plot()"
   ]
  },
  {
   "cell_type": "markdown",
   "metadata": {
    "id": "DpV8DaEdwToi"
   },
   "source": [
    "**Dados desbalanceados**\n",
    "\n",
    "O motivo da baixa performance do modelo é seu desbalanceamento. Quando o conjunto de dados possuí muitas amostras de um itém (ausência de fraude) e poucos de outro itém (casos de fraude) ele tende a se super-ajustar aos casos mais frequêntes e fica enviezado.\n",
    "\n",
    "Para resolver este caso deve-se balancear de modo que os dados sejam proporcionalmente compatíveis."
   ]
  },
  {
   "cell_type": "code",
   "execution_count": 15,
   "metadata": {
    "colab": {
     "base_uri": "https://localhost:8080/"
    },
    "id": "M0UgTmtGSSuz",
    "outputId": "0ec76901-078a-4492-ce55-ad04b89d1503"
   },
   "outputs": [
    {
     "data": {
      "text/plain": [
       "fraude\n",
       "0    101497\n",
       "1       116\n",
       "Name: count, dtype: int64"
      ]
     },
     "execution_count": 15,
     "metadata": {},
     "output_type": "execute_result"
    }
   ],
   "source": [
    "dados.fraude.value_counts() # número de casos sem fraude ( 0 ), registros de fraude ( 1 )"
   ]
  },
  {
   "cell_type": "markdown",
   "metadata": {
    "id": "k1sGvLmLwYSY"
   },
   "source": [
    "## Etapa III - Balanceamento de dados\n",
    "\n",
    "O balanceamento de dados é importante porque muitos algoritmos de Machine Learning são sensíveis a desequilíbrios nos dados de treinamento. Isso significa que eles podem ser prejudicados ou produzir resultados imprecisos se a proporção de amostras de diferentes classes não for adequada. Por essas razões, é importante equilibrar os dados antes de rodar o algoritmo de Machine Learning.\n",
    "\n"
   ]
  },
  {
   "cell_type": "markdown",
   "metadata": {
    "id": "anhMZg8V8sBL"
   },
   "source": [
    "**Obtenção de recursos**."
   ]
  },
  {
   "cell_type": "code",
   "execution_count": 16,
   "metadata": {
    "id": "9g3oqzQFvA1e"
   },
   "outputs": [],
   "source": [
    "from imblearn.over_sampling import SMOTE\n",
    "import numpy as np"
   ]
  },
  {
   "cell_type": "markdown",
   "metadata": {
    "id": "fI8pCg9Z-LRT"
   },
   "source": [
    "SMOTE - Synthetic Minority Over-sampling Technique: Criar novas amostras sintéticas para a classe sub-representada e ajuda a equilibrar as classes."
   ]
  },
  {
   "cell_type": "code",
   "execution_count": 17,
   "metadata": {
    "id": "M4rGgsjbuY0n"
   },
   "outputs": [],
   "source": [
    "smote = SMOTE(random_state=SEED)\n",
    "\n",
    "x = dados.drop('fraude', axis=1)\n",
    "y = dados['fraude']"
   ]
  },
  {
   "cell_type": "markdown",
   "metadata": {
    "id": "K36CWcT29_61"
   },
   "source": [
    "Aplicação SMOTE"
   ]
  },
  {
   "cell_type": "code",
   "execution_count": 18,
   "metadata": {
    "id": "VVCTLUgYucbv"
   },
   "outputs": [],
   "source": [
    "x_resampled, y_resampled = smote.fit_resample(x, y)\n",
    "df_balanced = pd.concat([y_resampled, x_resampled], axis=1)"
   ]
  },
  {
   "cell_type": "markdown",
   "metadata": {
    "id": "B-exjtS7-Xb6"
   },
   "source": [
    "Perceba abaixo que após a aplicação da função SMOTE os dados de Fraude e Transações Regulares foram proporcionalmente equiparadas."
   ]
  },
  {
   "cell_type": "code",
   "execution_count": 19,
   "metadata": {
    "colab": {
     "base_uri": "https://localhost:8080/"
    },
    "id": "UHTM90w0uicA",
    "outputId": "23208908-a424-44cf-a09b-a1529824335a"
   },
   "outputs": [
    {
     "data": {
      "text/plain": [
       "fraude\n",
       "0    101497\n",
       "1    101497\n",
       "Name: tempo, dtype: int64"
      ]
     },
     "execution_count": 19,
     "metadata": {},
     "output_type": "execute_result"
    }
   ],
   "source": [
    "df_balanced.groupby('fraude').tempo.count()"
   ]
  },
  {
   "cell_type": "markdown",
   "metadata": {
    "id": "kYdHFN1a-qIc"
   },
   "source": [
    "Após a transformação, novamente são separados os conjuntos de treino e teste para aplicação do modelo."
   ]
  },
  {
   "cell_type": "code",
   "execution_count": 20,
   "metadata": {
    "id": "8qH9aECqulsF"
   },
   "outputs": [],
   "source": [
    "x = df_balanced.iloc[:, 1:].values\n",
    "y = df_balanced.iloc[:, 0].values"
   ]
  },
  {
   "cell_type": "code",
   "execution_count": 21,
   "metadata": {
    "colab": {
     "base_uri": "https://localhost:8080/"
    },
    "id": "jggAZXiGunx7",
    "outputId": "678c30a8-cbe5-48fa-9558-fe9da95f5b70"
   },
   "outputs": [
    {
     "name": "stdout",
     "output_type": "stream",
     "text": [
      "Acurácia: 0.9417722516699837\n",
      "Precisão: 0.9241993556945234\n",
      "Recall: 0.9623125493291239\n",
      "F1: 0.9428709521507975\n"
     ]
    }
   ],
   "source": [
    "SEED = 42\n",
    "\n",
    "x_train, x_test, y_train, y_test = train_test_split(x, y, test_size=0.25, random_state = SEED)\n",
    "\n",
    "lr.fit(x_train, y_train)\n",
    "y_pred =lr.predict(x_test)\n",
    "\n",
    "print(\"Acurácia:\",metrics.accuracy_score(y_test, y_pred))\n",
    "print(\"Precisão:\",metrics.precision_score(y_test, y_pred))\n",
    "print(\"Recall:\",metrics.recall_score(y_test, y_pred))\n",
    "print(\"F1:\",metrics.f1_score(y_test, y_pred))"
   ]
  },
  {
   "cell_type": "markdown",
   "metadata": {
    "id": "zhfzi5Kb_aO1"
   },
   "source": [
    "Observe que embora a acurácia tenha diminuído, as demais métricas aumentaram muito! Isso ocorreu porque o modelo teve mais dados de exemplo para classifcar transações regulares e fraudes."
   ]
  },
  {
   "cell_type": "markdown",
   "metadata": {
    "id": "XVjum1rmw5KS"
   },
   "source": [
    "### Visualização"
   ]
  },
  {
   "cell_type": "markdown",
   "metadata": {
    "id": "-J3RnRytAAUZ"
   },
   "source": [
    "`Abaixo é apresentada a Matriz de Confusão, ela contém as seguintes informações:`\n",
    "\n",
    "O primeiro quadrado mostra os **VERDADEIROS NEGATIVOS**: O número de registros classificados corretamente sem Fraude.\n",
    "\n",
    "O segundo quadrado mostra os **FALSOS POSITIVOS**: O número de registros acusados como fraude indevidamente.\n",
    "\n",
    "O terceiro quadrado mostra os **FALSOS NEGATIVOS**: O número de registros que possuem Fraude mas não foram classificados corretamente pelo modelo.\n",
    "\n",
    "O quarto quadrado mostra os **VERDADEIROS POSITIVOS**: Número de casos de fraude identificados corretamente."
   ]
  },
  {
   "cell_type": "code",
   "execution_count": 22,
   "metadata": {
    "colab": {
     "base_uri": "https://localhost:8080/",
     "height": 0
    },
    "id": "ol2IkyoVuuUS",
    "outputId": "9c36aad4-b183-41db-e879-612f58fbecca"
   },
   "outputs": [
    {
     "data": {
      "text/plain": [
       "<sklearn.metrics._plot.confusion_matrix.ConfusionMatrixDisplay at 0x1f2562f88b0>"
      ]
     },
     "execution_count": 22,
     "metadata": {},
     "output_type": "execute_result"
    },
    {
     "data": {
      "image/png": "[encoded data removed]",
      "text/plain": [
       "<Figure size 640x480 with 2 Axes>"
      ]
     },
     "metadata": {},
     "output_type": "display_data"
    }
   ],
   "source": [
    "cm = confusion_matrix(y_test, y_pred)\n",
    "disp = ConfusionMatrixDisplay(confusion_matrix=cm)\n",
    "disp.plot()"
   ]
  },
  {
   "cell_type": "markdown",
   "metadata": {
    "id": "Hz2PAqYmBFFJ"
   },
   "source": [
    "**GRÁFICO CURVA ROC**\n",
    "\n",
    "A curva ROC (Receiver Operating Characteristic) é um gráfico que representa a performance de um modelo de classificação binária em diferentes pontos de corte do limiar de decisão. A área sob a curva ROC (AUC-ROC) é uma medida da capacidade discriminativa do modelo, indicando o quão bem ele é capaz de distinguir entre as classes.\n",
    "\n",
    "A curva ROC é útil para avaliar e comparar diferentes modelos, permitindo identificar o trade-off entre taxa de verdadeiros positivos e taxa de falsos positivos. Quanto maior a área sob a curva, melhor é o desempenho do modelo."
   ]
  },
  {
   "cell_type": "code",
   "execution_count": 23,
   "metadata": {
    "colab": {
     "base_uri": "https://localhost:8080/",
     "height": 0
    },
    "id": "ST-Gt6Lpuv5X",
    "outputId": "f402d01d-2db3-466d-a801-3ceb688fbaec"
   },
   "outputs": [
    {
     "data": {
      "text/plain": [
       "<matplotlib.legend.Legend at 0x1f2562f8850>"
      ]
     },
     "execution_count": 23,
     "metadata": {},
     "output_type": "execute_result"
    },
    {
     "data": {
      "image/png": "[encoded data removed]",
      "text/plain": [
       "<Figure size 1000x600 with 1 Axes>"
      ]
     },
     "metadata": {},
     "output_type": "display_data"
    }
   ],
   "source": [
    "y_pred_proba = lr.predict_proba(x_test)[::, 1]\n",
    "fpr, tpr, _= metrics.roc_curve(y_test, y_pred_proba)\n",
    "auc = metrics.roc_auc_score(y_test, y_pred_proba)\n",
    "\n",
    "plt.rcParams['figure.figsize'] = (10., 6.)\n",
    "plt.plot(fpr,tpr,label=\"LR, auc=\"+str(auc))\n",
    "plt.plot([0, 1], [0, 1], color='red', lw=2, linestyle='--')\n",
    "plt.legend(loc=4)"
   ]
  },
  {
   "cell_type": "markdown",
   "metadata": {
    "id": "50t6N30v3OzY"
   },
   "source": [
    "## Etapa IV - Testando novos modelos\n",
    "\n",
    "Antes de concluir um projeto de Machine Learning é importante testar diferentes modelos de classificação para obter a melhor métrica possível."
   ]
  },
  {
   "cell_type": "code",
   "execution_count": 24,
   "metadata": {
    "id": "s_US2Ygz3Y7J"
   },
   "outputs": [],
   "source": [
    "from sklearn.tree import DecisionTreeClassifier\n",
    "from sklearn.ensemble import RandomForestClassifier\n",
    "from xgboost import XGBClassifier"
   ]
  },
  {
   "cell_type": "markdown",
   "metadata": {
    "id": "bCwap6icGbrW"
   },
   "source": [
    "### DecisionTreeClassifier\n",
    "\n",
    "O DecisionTreeClassifier é um algoritmo que usa uma única árvore para classificar os dados de entrada em diferentes categorias. Ele divide recursivamente os dados em subconjuntos menores com base em determinadas condições, até que as amostras em cada subconjunto sejam suficientemente homogêneas para serem rotuladas com uma categoria."
   ]
  },
  {
   "cell_type": "code",
   "execution_count": 25,
   "metadata": {
    "id": "jBUYGgWFG3kI"
   },
   "outputs": [],
   "source": [
    "modelo_dt = DecisionTreeClassifier(random_state=SEED, min_samples_split=100)"
   ]
  },
  {
   "cell_type": "code",
   "execution_count": 26,
   "metadata": {
    "colab": {
     "base_uri": "https://localhost:8080/"
    },
    "id": "-DtyRHKzGqck",
    "outputId": "748a7bc5-500b-4fd7-ab64-3a60cd319cf2"
   },
   "outputs": [
    {
     "name": "stdout",
     "output_type": "stream",
     "text": [
      "Acuracia: 0.99527 \n",
      "Precisao: 0.99374 \n",
      "Sensibilidade: 0.99680 \n",
      "f1_score: 0.99527 \n",
      "\n"
     ]
    }
   ],
   "source": [
    "X_train, X_test, y_train, y_test = train_test_split(\n",
    "...     x, y, test_size=0.25, random_state=SEED)\n",
    "\n",
    "modelo_dt.fit(X_train, y_train)\n",
    "previsoes = modelo_dt.predict(X_test)\n",
    "\n",
    "acuracia = metrics.accuracy_score(y_test, previsoes)\n",
    "precisao = metrics.precision_score(y_test, previsoes)\n",
    "sensibilidade = metrics.recall_score(y_test, previsoes)\n",
    "f1_score = metrics.f1_score(y_test, previsoes)\n",
    "\n",
    "print(\n",
    "    f'Acuracia: {acuracia:.5f} \\n'\n",
    "    f'Precisao: {precisao:.5f} \\n'\n",
    "    f'Sensibilidade: {sensibilidade:.5f} \\n'\n",
    "    f'f1_score: {f1_score:.5f} \\n'\n",
    "      )"
   ]
  },
  {
   "cell_type": "markdown",
   "metadata": {
    "id": "1kI4oUiKGlPb"
   },
   "source": [
    "### RandomForestClassifier\n",
    "\n",
    "O Random Forest é um algoritmo de aprendizado de máquina que usa várias árvores de decisão para realizar tarefas de classificação ou regressão. Ele combina as previsões de várias árvores de decisão individuais para chegar a uma previsão final. Cada árvore é treinada em uma amostra aleatória dos dados de entrada e com um conjunto aleatório de recursos, o que aumenta a diversidade das árvores e reduz o risco de overfitting."
   ]
  },
  {
   "cell_type": "code",
   "execution_count": 27,
   "metadata": {
    "id": "RYoxBr6XIIcW"
   },
   "outputs": [],
   "source": [
    "modelo_rf = RandomForestClassifier(random_state=SEED, min_samples_split=100)"
   ]
  },
  {
   "cell_type": "code",
   "execution_count": 28,
   "metadata": {
    "colab": {
     "base_uri": "https://localhost:8080/"
    },
    "id": "-86BYKrvGqGM",
    "outputId": "16ca59df-e626-459b-d6fb-651a346b961b"
   },
   "outputs": [
    {
     "name": "stdout",
     "output_type": "stream",
     "text": [
      "Acuracia: 0.99817 \n",
      "Precisao: 0.99736 \n",
      "Sensibilidade: 0.99897 \n",
      "f1_score: 0.99817 \n",
      "\n"
     ]
    }
   ],
   "source": [
    "X_train, X_test, y_train, y_test = train_test_split(\n",
    "...     x, y, test_size=0.25, random_state=SEED)\n",
    "\n",
    "modelo_rf.fit(X_train, y_train)\n",
    "previsoes = modelo_rf.predict(X_test)\n",
    "\n",
    "acuracia = metrics.accuracy_score(y_test, previsoes)\n",
    "precisao = metrics.precision_score(y_test, previsoes)\n",
    "sensibilidade = metrics.recall_score(y_test, previsoes)\n",
    "f1_score = metrics.f1_score(y_test, previsoes)\n",
    "\n",
    "print(\n",
    "    f'Acuracia: {acuracia:.5f} \\n'\n",
    "    f'Precisao: {precisao:.5f} \\n'\n",
    "    f'Sensibilidade: {sensibilidade:.5f} \\n'\n",
    "    f'f1_score: {f1_score:.5f} \\n'\n",
    "      )"
   ]
  },
  {
   "cell_type": "markdown",
   "metadata": {
    "id": "q7wnkO4lGoqA"
   },
   "source": [
    "### XGBClassifier\n",
    "\n",
    "O XGBClassifier é um modelo de classificação baseado em gradient boosting, conhecido como Extreme Gradient Boosting. Ele utiliza uma técnica de aprendizado de máquina chamada boosting para combinar vários modelos fracos em um modelo forte.\n",
    "\n",
    "O XGBClassifier é capaz de lidar com problemas de classificação binária e multiclasse. Ele utiliza árvores de decisão como estimadores base e, através do processo de boosting, melhora iterativamente o desempenho do modelo."
   ]
  },
  {
   "cell_type": "code",
   "execution_count": 29,
   "metadata": {
    "id": "Nu5Kr0uJGkza"
   },
   "outputs": [],
   "source": [
    "modelo_xgb = XGBClassifier(n_estimators=100, random_state=SEED)"
   ]
  },
  {
   "cell_type": "code",
   "execution_count": 30,
   "metadata": {
    "colab": {
     "base_uri": "https://localhost:8080/"
    },
    "id": "JnYhsOAOJQ9h",
    "outputId": "dd2e0891-8bbb-49c9-904d-28c1eb422bb9"
   },
   "outputs": [
    {
     "name": "stdout",
     "output_type": "stream",
     "text": [
      "Acuracia: 0.99892 \n",
      "Precisao: 0.99811 \n",
      "Sensibilidade: 0.99972 \n",
      "f1_score: 0.99892 \n",
      "\n"
     ]
    }
   ],
   "source": [
    "X_train, X_test, y_train, y_test = train_test_split(\n",
    "...     x, y, test_size=0.25, random_state=SEED)\n",
    "\n",
    "modelo_xgb.fit(X_train, y_train)\n",
    "previsoes = modelo_xgb.predict(X_test)\n",
    "\n",
    "acuracia = metrics.accuracy_score(y_test, previsoes)\n",
    "precisao = metrics.precision_score(y_test, previsoes)\n",
    "sensibilidade = metrics.recall_score(y_test, previsoes)\n",
    "f1_score = metrics.f1_score(y_test, previsoes)\n",
    "\n",
    "print(\n",
    "    f'Acuracia: {acuracia:.5f} \\n'\n",
    "    f'Precisao: {precisao:.5f} \\n'\n",
    "    f'Sensibilidade: {sensibilidade:.5f} \\n'\n",
    "    f'f1_score: {f1_score:.5f} \\n'\n",
    "      )"
   ]
  },
  {
   "cell_type": "markdown",
   "metadata": {
    "id": "fKWugRaHGZCU"
   },
   "source": [
    "### Visualização de Resultados"
   ]
  },
  {
   "cell_type": "code",
   "execution_count": 31,
   "metadata": {
    "id": "wf1dxg9iGTkU"
   },
   "outputs": [],
   "source": [
    "classifiers = [\n",
    "    DecisionTreeClassifier(random_state=SEED, min_samples_split=100),\n",
    "    RandomForestClassifier(random_state=SEED, min_samples_split=100),\n",
    "    XGBClassifier(n_estimators=100, random_state=SEED)]"
   ]
  },
  {
   "cell_type": "code",
   "execution_count": 32,
   "metadata": {
    "colab": {
     "base_uri": "https://localhost:8080/",
     "height": 0
    },
    "id": "0J8109qhGVbU",
    "outputId": "771e9a73-b9da-4cef-fae6-956e8203e1c0"
   },
   "outputs": [
    {
     "name": "stdout",
     "output_type": "stream",
     "text": [
      "==============================\n",
      "DecisionTreeClassifier\n",
      "****Resultados****\n",
      "Accuracy:, 0.99527\n",
      "Precision:, 0.99374\n",
      "Recall:, 0.99680\n",
      "F1:, 0.99527\n",
      "==============================\n",
      "RandomForestClassifier\n",
      "****Resultados****\n",
      "Accuracy:, 0.99817\n",
      "Precision:, 0.99736\n",
      "Recall:, 0.99897\n",
      "F1:, 0.99817\n",
      "==============================\n",
      "XGBClassifier\n",
      "****Resultados****\n",
      "Accuracy:, 0.99892\n",
      "Precision:, 0.99811\n",
      "Recall:, 0.99972\n",
      "F1:, 0.99892\n"
     ]
    },
    {
     "data": {
      "text/plain": [
       "<Figure size 800x600 with 0 Axes>"
      ]
     },
     "metadata": {},
     "output_type": "display_data"
    },
    {
     "data": {
      "image/png": "[encoded data removed]",
      "text/plain": [
       "<Figure size 1000x600 with 2 Axes>"
      ]
     },
     "metadata": {},
     "output_type": "display_data"
    },
    {
     "data": {
      "text/plain": [
       "<Figure size 800x600 with 0 Axes>"
      ]
     },
     "metadata": {},
     "output_type": "display_data"
    },
    {
     "data": {
      "image/png": "[encoded data removed]",
      "text/plain": [
       "<Figure size 1000x600 with 2 Axes>"
      ]
     },
     "metadata": {},
     "output_type": "display_data"
    },
    {
     "data": {
      "text/plain": [
       "<Figure size 800x600 with 0 Axes>"
      ]
     },
     "metadata": {},
     "output_type": "display_data"
    },
    {
     "data": {
      "image/png": "[encoded data removed]",
      "text/plain": [
       "<Figure size 1000x600 with 2 Axes>"
      ]
     },
     "metadata": {},
     "output_type": "display_data"
    }
   ],
   "source": [
    "for clf in classifiers:\n",
    "  clf.fit(x_train, y_train)\n",
    "  name = clf.__class__.__name__\n",
    "\n",
    "  print(\"=\"*30)\n",
    "  print(name)\n",
    "  print('****Resultados****')\n",
    "  y_pred = clf.predict(x_test)\n",
    "  print(f\"Accuracy:, {metrics.accuracy_score(y_test, y_pred):.5f}\")\n",
    "  print(f\"Precision:, {metrics.precision_score(y_test, y_pred):.5f}\")\n",
    "  print(f\"Recall:, {metrics.recall_score(y_test, y_pred):.5f}\")\n",
    "  print(f\"F1:, {metrics.f1_score(y_test, y_pred):.5f}\")\n",
    "\n",
    "  plt.figure(figsize=(8,6))\n",
    "  cm = confusion_matrix(y_test, y_pred)\n",
    "  disp = ConfusionMatrixDisplay(confusion_matrix=cm)\n",
    "  disp.plot()"
   ]
  },
  {
   "cell_type": "markdown",
   "metadata": {
    "id": "EVkcZrI9PAm3"
   },
   "source": [
    "## Etapa V - Otimização de híper-parâmetros\n",
    "\n",
    "Quando os dados são separados em Treino e Teste, essa seração é realizada de modo aleatório, e embora este projeto tenha aplicado o SEED para que seja possível reproduzi-lo em outros computadores com as mesmas métricas, o que aconteceria se fossem usados dados diferentes para treinar e testar o modelo? Os resultados seriam diferentes."
   ]
  },
  {
   "cell_type": "markdown",
   "metadata": {
    "id": "uUBUkwHpFZmG"
   },
   "source": [
    "**Para resolver essa questão**, aplicar-se-á a validação cruzada, onde diferentes partes dos dados são usados para treino e teste. No final, o algoritmo retorna uma métrica representativa dos diferentes testes realizados, tornando-se mais factível.\n",
    "\n",
    "A validação cruzada será aplicada dentro do RandomizedSearchCV, que aplicará diferentes parâmetros no modelo."
   ]
  },
  {
   "cell_type": "code",
   "execution_count": 33,
   "metadata": {
    "id": "9Yxa9xYKPrl2"
   },
   "outputs": [],
   "source": [
    "dicionario_parametros_xgb = {\n",
    "    \"n_estimators\": np.arange(100, 250, step=20),\n",
    "    \"learning_rate\": np.arange(0.01, 0.1, step=0.02),\n",
    "    \"max_depth\": [2, 3, 4, 5],\n",
    "    \"subsample\": [0.8, 1, 1.5],\n",
    "    \"colsample_bytree\": [0.8, 1, 1.5],\n",
    "    \"reg_alpha\": np.arange(0.0, 0.8, step=0.2),\n",
    "    \"reg_lambda\": np.arange(0.0, 0.8, step=0.2)\n",
    "}"
   ]
  },
  {
   "cell_type": "code",
   "execution_count": 34,
   "metadata": {
    "id": "TFiixnY3PI4u"
   },
   "outputs": [],
   "source": [
    "from sklearn.model_selection import RandomizedSearchCV"
   ]
  },
  {
   "cell_type": "markdown",
   "metadata": {
    "id": "IeqWJcjmGih-"
   },
   "source": [
    "É aplicado o modelo XGB com os parâmetros definidos acima em `dicionario_parametros_xgb`, ele fará 5 iterações diferentes."
   ]
  },
  {
   "cell_type": "code",
   "execution_count": 35,
   "metadata": {
    "id": "A0w0j8s8PkXE"
   },
   "outputs": [],
   "source": [
    "random_cv = RandomizedSearchCV(modelo_xgb, dicionario_parametros_xgb, n_iter=5, n_jobs=-1, random_state=SEED)"
   ]
  },
  {
   "cell_type": "code",
   "execution_count": 36,
   "metadata": {
    "colab": {
     "base_uri": "https://localhost:8080/"
    },
    "id": "hT740eVtQ1lK",
    "outputId": "0ff7d261-7fa6-47c9-facd-77cc94eb5565"
   },
   "outputs": [
    {
     "name": "stderr",
     "output_type": "stream",
     "text": [
      "C:\\Users\\Lucas\\OneDrive\\ESTUDOS\\Alura\\ML\\venv\\lib\\site-packages\\sklearn\\model_selection\\_validation.py:378: FitFailedWarning: \n",
      "20 fits failed out of a total of 25.\n",
      "The score on these train-test partitions for these parameters will be set to nan.\n",
      "If these failures are not expected, you can try to debug them by setting error_score='raise'.\n",
      "\n",
      "Below are more details about the failures:\n",
      "--------------------------------------------------------------------------------\n",
      "10 fits failed with the following error:\n",
      "Traceback (most recent call last):\n",
      "  File \"C:\\Users\\Lucas\\OneDrive\\ESTUDOS\\Alura\\ML\\venv\\lib\\site-packages\\sklearn\\model_selection\\_validation.py\", line 686, in _fit_and_score\n",
      "    estimator.fit(X_train, y_train, **fit_params)\n",
      "  File \"C:\\Users\\Lucas\\OneDrive\\ESTUDOS\\Alura\\ML\\venv\\lib\\site-packages\\xgboost\\core.py\", line 729, in inner_f\n",
      "    return func(**kwargs)\n",
      "  File \"C:\\Users\\Lucas\\OneDrive\\ESTUDOS\\Alura\\ML\\venv\\lib\\site-packages\\xgboost\\sklearn.py\", line 1682, in fit\n",
      "    self._Booster = train(\n",
      "  File \"C:\\Users\\Lucas\\OneDrive\\ESTUDOS\\Alura\\ML\\venv\\lib\\site-packages\\xgboost\\core.py\", line 729, in inner_f\n",
      "    return func(**kwargs)\n",
      "  File \"C:\\Users\\Lucas\\OneDrive\\ESTUDOS\\Alura\\ML\\venv\\lib\\site-packages\\xgboost\\training.py\", line 183, in train\n",
      "    bst.update(dtrain, iteration=i, fobj=obj)\n",
      "  File \"C:\\Users\\Lucas\\OneDrive\\ESTUDOS\\Alura\\ML\\venv\\lib\\site-packages\\xgboost\\core.py\", line 2246, in update\n",
      "    _check_call(\n",
      "  File \"C:\\Users\\Lucas\\OneDrive\\ESTUDOS\\Alura\\ML\\venv\\lib\\site-packages\\xgboost\\core.py\", line 310, in _check_call\n",
      "    raise XGBoostError(py_str(_LIB.XGBGetLastError()))\n",
      "xgboost.core.XGBoostError: value 1.5 for Parameter colsample_bytree exceed bound [0,1]\n",
      "colsample_bytree: Subsample ratio of columns, resample on each tree construction.\n",
      "\n",
      "--------------------------------------------------------------------------------\n",
      "10 fits failed with the following error:\n",
      "Traceback (most recent call last):\n",
      "  File \"C:\\Users\\Lucas\\OneDrive\\ESTUDOS\\Alura\\ML\\venv\\lib\\site-packages\\sklearn\\model_selection\\_validation.py\", line 686, in _fit_and_score\n",
      "    estimator.fit(X_train, y_train, **fit_params)\n",
      "  File \"C:\\Users\\Lucas\\OneDrive\\ESTUDOS\\Alura\\ML\\venv\\lib\\site-packages\\xgboost\\core.py\", line 729, in inner_f\n",
      "    return func(**kwargs)\n",
      "  File \"C:\\Users\\Lucas\\OneDrive\\ESTUDOS\\Alura\\ML\\venv\\lib\\site-packages\\xgboost\\sklearn.py\", line 1682, in fit\n",
      "    self._Booster = train(\n",
      "  File \"C:\\Users\\Lucas\\OneDrive\\ESTUDOS\\Alura\\ML\\venv\\lib\\site-packages\\xgboost\\core.py\", line 729, in inner_f\n",
      "    return func(**kwargs)\n",
      "  File \"C:\\Users\\Lucas\\OneDrive\\ESTUDOS\\Alura\\ML\\venv\\lib\\site-packages\\xgboost\\training.py\", line 183, in train\n",
      "    bst.update(dtrain, iteration=i, fobj=obj)\n",
      "  File \"C:\\Users\\Lucas\\OneDrive\\ESTUDOS\\Alura\\ML\\venv\\lib\\site-packages\\xgboost\\core.py\", line 2246, in update\n",
      "    _check_call(\n",
      "  File \"C:\\Users\\Lucas\\OneDrive\\ESTUDOS\\Alura\\ML\\venv\\lib\\site-packages\\xgboost\\core.py\", line 310, in _check_call\n",
      "    raise XGBoostError(py_str(_LIB.XGBGetLastError()))\n",
      "xgboost.core.XGBoostError: value 1.5 for Parameter subsample exceed bound [0,1]\n",
      "subsample: Row subsample ratio of training instance.\n",
      "\n",
      "  warnings.warn(some_fits_failed_message, FitFailedWarning)\n",
      "C:\\Users\\Lucas\\OneDrive\\ESTUDOS\\Alura\\ML\\venv\\lib\\site-packages\\sklearn\\model_selection\\_search.py:952: UserWarning: One or more of the test scores are non-finite: [       nan        nan        nan        nan 0.99074518]\n",
      "  warnings.warn(\n"
     ]
    }
   ],
   "source": [
    "random_cv.fit(x_train, y_train)\n",
    "previsoes_xgb = random_cv.predict(x_test)"
   ]
  },
  {
   "cell_type": "markdown",
   "metadata": {
    "id": "-EwGB5uVHQFj"
   },
   "source": [
    "Rankind de melhores parâmetros"
   ]
  },
  {
   "cell_type": "code",
   "execution_count": 37,
   "metadata": {
    "colab": {
     "base_uri": "https://localhost:8080/",
     "height": 0
    },
    "id": "NZsxCn9vXyLG",
    "outputId": "d143c0c4-a9a3-4e58-f90d-8b1aa99916e6"
   },
   "outputs": [
    {
     "data": {
      "text/html": [
       "<div>\n",
       "<style scoped>\n",
       "    .dataframe tbody tr th:only-of-type {\n",
       "        vertical-align: middle;\n",
       "    }\n",
       "\n",
       "    .dataframe tbody tr th {\n",
       "        vertical-align: top;\n",
       "    }\n",
       "\n",
       "    .dataframe thead th {\n",
       "        text-align: right;\n",
       "    }\n",
       "</style>\n",
       "<table border=\"1\" class=\"dataframe\">\n",
       "  <thead>\n",
       "    <tr style=\"text-align: right;\">\n",
       "      <th></th>\n",
       "      <th>params</th>\n",
       "      <th>rank_test_score</th>\n",
       "    </tr>\n",
       "  </thead>\n",
       "  <tbody>\n",
       "    <tr>\n",
       "      <th>0</th>\n",
       "      <td>{'subsample': 0.8, 'reg_lambda': 0.2, 'reg_alp...</td>\n",
       "      <td>2</td>\n",
       "    </tr>\n",
       "    <tr>\n",
       "      <th>1</th>\n",
       "      <td>{'subsample': 1.5, 'reg_lambda': 0.4, 'reg_alp...</td>\n",
       "      <td>2</td>\n",
       "    </tr>\n",
       "    <tr>\n",
       "      <th>2</th>\n",
       "      <td>{'subsample': 1.5, 'reg_lambda': 0.0, 'reg_alp...</td>\n",
       "      <td>2</td>\n",
       "    </tr>\n",
       "    <tr>\n",
       "      <th>3</th>\n",
       "      <td>{'subsample': 1.5, 'reg_lambda': 0.60000000000...</td>\n",
       "      <td>2</td>\n",
       "    </tr>\n",
       "    <tr>\n",
       "      <th>4</th>\n",
       "      <td>{'subsample': 0.8, 'reg_lambda': 0.0, 'reg_alp...</td>\n",
       "      <td>1</td>\n",
       "    </tr>\n",
       "  </tbody>\n",
       "</table>\n",
       "</div>"
      ],
      "text/plain": [
       "                                              params  rank_test_score\n",
       "0  {'subsample': 0.8, 'reg_lambda': 0.2, 'reg_alp...                2\n",
       "1  {'subsample': 1.5, 'reg_lambda': 0.4, 'reg_alp...                2\n",
       "2  {'subsample': 1.5, 'reg_lambda': 0.0, 'reg_alp...                2\n",
       "3  {'subsample': 1.5, 'reg_lambda': 0.60000000000...                2\n",
       "4  {'subsample': 0.8, 'reg_lambda': 0.0, 'reg_alp...                1"
      ]
     },
     "execution_count": 37,
     "metadata": {},
     "output_type": "execute_result"
    }
   ],
   "source": [
    "pd.DataFrame(random_cv.cv_results_)[['params', 'rank_test_score']]"
   ]
  },
  {
   "cell_type": "code",
   "execution_count": 38,
   "metadata": {
    "colab": {
     "base_uri": "https://localhost:8080/"
    },
    "id": "DKfud3AGXQlu",
    "outputId": "0482e3c4-5dcc-49a6-c847-4c8286ea5679"
   },
   "outputs": [
    {
     "data": {
      "text/plain": [
       "{'subsample': 0.8,\n",
       " 'reg_lambda': 0.0,\n",
       " 'reg_alpha': 0.2,\n",
       " 'n_estimators': 120,\n",
       " 'max_depth': 5,\n",
       " 'learning_rate': 0.049999999999999996,\n",
       " 'colsample_bytree': 1}"
      ]
     },
     "execution_count": 38,
     "metadata": {},
     "output_type": "execute_result"
    }
   ],
   "source": [
    "random_cv.best_params_ # Melhor parâmetro obtido"
   ]
  },
  {
   "cell_type": "markdown",
   "metadata": {
    "id": "Bhp_NsDdHayT"
   },
   "source": [
    "Resultado após otimização"
   ]
  },
  {
   "cell_type": "code",
   "execution_count": 39,
   "metadata": {
    "colab": {
     "base_uri": "https://localhost:8080/"
    },
    "id": "Mdn9mKcfXK7Q",
    "outputId": "f0da8f6e-a5ae-4a03-d116-e50df625fa7f"
   },
   "outputs": [
    {
     "name": "stdout",
     "output_type": "stream",
     "text": [
      "Accuracy:, 0.99098\n",
      "Precision:, 0.98643\n",
      "Recall:, 0.99562\n",
      "F1:, 0.99100\n"
     ]
    }
   ],
   "source": [
    "print(f\"Accuracy:, {metrics.accuracy_score(y_test, previsoes_xgb):.5f}\")\n",
    "print(f\"Precision:, {metrics.precision_score(y_test, previsoes_xgb):.5f}\")\n",
    "print(f\"Recall:, {metrics.recall_score(y_test, previsoes_xgb):.5f}\")\n",
    "print(f\"F1:, {metrics.f1_score(y_test, previsoes_xgb):.5f}\")"
   ]
  },
  {
   "cell_type": "markdown",
   "metadata": {
    "id": "tJMOCFQzbUq9"
   },
   "source": [
    "## Etapa V - Aplicação final XGBClassifier\n",
    "\n",
    "Depois de obter as melhores métricas aplicamos o modelo final"
   ]
  },
  {
   "cell_type": "code",
   "execution_count": 40,
   "metadata": {
    "id": "7NMBXrmXbjHn"
   },
   "outputs": [],
   "source": [
    "best_modelo_xgb = XGBClassifier(**random_cv.best_params_, random_state=SEED)"
   ]
  },
  {
   "cell_type": "code",
   "execution_count": 41,
   "metadata": {
    "id": "9zStZ3h1cB8t"
   },
   "outputs": [],
   "source": [
    "X_train, X_test, y_train, y_test = train_test_split(\n",
    "...     x, y, test_size=0.25, random_state=SEED)\n",
    "\n",
    "best_modelo_xgb.fit(X_train, y_train)\n",
    "previsoes = best_modelo_xgb.predict(X_test)\n",
    "\n",
    "acuracia = metrics.accuracy_score(y_test, previsoes)\n",
    "precisao = metrics.precision_score(y_test, previsoes)\n",
    "sensibilidade = metrics.recall_score(y_test, previsoes)\n",
    "f1_score = metrics.f1_score(y_test, previsoes)"
   ]
  },
  {
   "cell_type": "markdown",
   "metadata": {
    "id": "rXXvuNpbHt7V"
   },
   "source": [
    "### Visualização"
   ]
  },
  {
   "cell_type": "code",
   "execution_count": 42,
   "metadata": {
    "colab": {
     "base_uri": "https://localhost:8080/"
    },
    "id": "Bjnj-I6UcGET",
    "outputId": "cac7c785-297a-4573-cf49-94d1c8c5b975"
   },
   "outputs": [
    {
     "name": "stdout",
     "output_type": "stream",
     "text": [
      "Acuracia: 0.99098 \n",
      "Precisao: 0.98643 \n",
      "Sensibilidade: 0.99562 \n",
      "f1_score: 0.99100 \n",
      "\n"
     ]
    }
   ],
   "source": [
    "print(\n",
    "    f'Acuracia: {acuracia:.5f} \\n'\n",
    "    f'Precisao: {precisao:.5f} \\n'\n",
    "    f'Sensibilidade: {sensibilidade:.5f} \\n'\n",
    "    f'f1_score: {f1_score:.5f} \\n'\n",
    "      )"
   ]
  },
  {
   "cell_type": "code",
   "execution_count": 43,
   "metadata": {
    "colab": {
     "base_uri": "https://localhost:8080/",
     "height": 580
    },
    "id": "rllm_ybkcSFr",
    "outputId": "0984fa28-cf6b-4130-c0ca-3ef49c69560d"
   },
   "outputs": [
    {
     "data": {
      "text/plain": [
       "<sklearn.metrics._plot.confusion_matrix.ConfusionMatrixDisplay at 0x1f260654400>"
      ]
     },
     "execution_count": 43,
     "metadata": {},
     "output_type": "execute_result"
    },
    {
     "data": {
      "text/plain": [
       "<Figure size 800x600 with 0 Axes>"
      ]
     },
     "metadata": {},
     "output_type": "display_data"
    },
    {
     "data": {
      "image/png": "[encoded data removed]",
      "text/plain": [
       "<Figure size 1000x600 with 2 Axes>"
      ]
     },
     "metadata": {},
     "output_type": "display_data"
    }
   ],
   "source": [
    "plt.figure(figsize=(8,6))\n",
    "cm = confusion_matrix(y_test, previsoes)\n",
    "disp = ConfusionMatrixDisplay(confusion_matrix=cm)\n",
    "disp.plot()"
   ]
  },
  {
   "cell_type": "code",
   "execution_count": 44,
   "metadata": {
    "colab": {
     "base_uri": "https://localhost:8080/"
    },
    "id": "LzWNz7NlJPDX",
    "outputId": "472bba6f-8be4-4ffa-a1bc-1970b3c6c2d8"
   },
   "outputs": [
    {
     "data": {
      "text/plain": [
       "(50749, 11)"
      ]
     },
     "execution_count": 44,
     "metadata": {},
     "output_type": "execute_result"
    }
   ],
   "source": [
    "x_test.shape"
   ]
  },
  {
   "cell_type": "markdown",
   "metadata": {
    "id": "bdoi8HcJJAo1"
   },
   "source": [
    "Após aplicação do modelo final, tivemos apenas 111 casos de fraude classificados como transações normais, e 347 transações normais classificadas como fraude. Totalizando 458 erros.\n",
    "\n",
    "Considerando que foram classificados 50.749 mil registros, a taxa de erro do algoritmo foi muito baixa e pode ser considerada como boa alternativa de prevenção de fraude no banco."
   ]
  },
  {
   "cell_type": "markdown",
   "metadata": {
    "id": "q_CEXpvciMtp"
   },
   "source": [
    "## Conclusão: Sugestões de combate a fraude bancária"
   ]
  },
  {
   "cell_type": "markdown",
   "metadata": {
    "id": "YPJNxwgJiTcn"
   },
   "source": [
    "Com base no estudo pode-se apresentar sugestões para o controle de fraude bancária:\n",
    "\n",
    "1. Monitoramento de Localização: Verificar se a transação foi feita em uma região diferente da habitual do cliente.\n",
    "\n",
    "2. Análise de Padrões de Comportamento: Identificar compras realizadas em horários atípicos, como durante a madrugada, ou em períodos do mês em que o cliente geralmente não costuma fazer transações.\n",
    "\n",
    "3. Autenticação Multifatorial: Adotar medidas adicionais de autenticação, como perguntas de segurança personalizadas, que apenas o cliente legítimo seria capaz de responder.\n",
    "\n",
    "4. Utilizar recursos visuais, como a verificação de imagens (Captcha), para garantir que a transação está sendo realizada por um ser humano e não por um programa automatizado.\n",
    "\n",
    "5. Monitoramento em Tempo Real: Implementar sistemas de monitoramento em tempo real que possam identificar e bloquear transações suspeitas antes que sejam concluídas, diferentes do que usualmente é realizado pelo cliente."
   ]
  },
  {
   "cell_type": "code",
   "execution_count": null,
   "metadata": {},
   "outputs": [],
   "source": []
  }
 ],
 "metadata": {
  "colab": {
   "authorship_tag": "ABX9TyPW3DCYbHFv749Dh9nNBta8",
   "collapsed_sections": [
    "VdRtKIxEvq8_",
    "9zljxHg9wfZD",
    "k1sGvLmLwYSY",
    "50t6N30v3OzY",
    "bCwap6icGbrW",
    "1kI4oUiKGlPb",
    "q7wnkO4lGoqA",
    "fKWugRaHGZCU",
    "EVkcZrI9PAm3",
    "tJMOCFQzbUq9",
    "q_CEXpvciMtp"
   ],
   "include_colab_link": true,
   "provenance": []
  },
  "kernelspec": {
   "display_name": "DetecFraude (venv)",
   "language": "python",
   "name": "detec_fraude_env"
  },
  "language_info": {
   "codemirror_mode": {
    "name": "ipython",
    "version": 3
   },
   "file_extension": ".py",
   "mimetype": "text/x-python",
   "name": "python",
   "nbconvert_exporter": "python",
   "pygments_lexer": "ipython3",
   "version": "3.10.11"
  },
  "widgets": {
   "application/vnd.jupyter.widget-state+json": {
    "0159a2ed137343a7bf08f351b350a991": {
     "model_module": "@jupyter-widgets/controls",
     "model_module_version": "1.5.0",
     "model_name": "HBoxModel",
     "state": {
      "_dom_classes": [],
      "_model_module": "@jupyter-widgets/controls",
      "_model_module_version": "1.5.0",
      "_model_name": "HBoxModel",
      "_view_count": null,
      "_view_module": "@jupyter-widgets/controls",
      "_view_module_version": "1.5.0",
      "_view_name": "HBoxView",
      "box_style": "",
      "children": [
       "IPY_MODEL_2a40932de0334544bde3f7bb073189ba",
       "IPY_MODEL_03fbd24fa58b4c77bb2097bbd8c81786",
       "IPY_MODEL_8250cf63f80f4ed69f27b6b2f9731244"
      ],
      "layout": "IPY_MODEL_c3d95eab931c40d1a8708896a86faa93"
     }
    },
    "03fbd24fa58b4c77bb2097bbd8c81786": {
     "model_module": "@jupyter-widgets/controls",
     "model_module_version": "1.5.0",
     "model_name": "FloatProgressModel",
     "state": {
      "_dom_classes": [],
      "_model_module": "@jupyter-widgets/controls",
      "_model_module_version": "1.5.0",
      "_model_name": "FloatProgressModel",
      "_view_count": null,
      "_view_module": "@jupyter-widgets/controls",
      "_view_module_version": "1.5.0",
      "_view_name": "ProgressView",
      "bar_style": "success",
      "description": "",
      "description_tooltip": null,
      "layout": "IPY_MODEL_8bc9a3993e2346099c513fc4d92268ed",
      "max": 1,
      "min": 0,
      "orientation": "horizontal",
      "style": "IPY_MODEL_b4b1c4969fcd408196296086d8657efd",
      "value": 1
     }
    },
    "0d23dda725c74cb0b4d3e514cb93b7b3": {
     "model_module": "@jupyter-widgets/base",
     "model_module_version": "1.2.0",
     "model_name": "LayoutModel",
     "state": {
      "_model_module": "@jupyter-widgets/base",
      "_model_module_version": "1.2.0",
      "_model_name": "LayoutModel",
      "_view_count": null,
      "_view_module": "@jupyter-widgets/base",
      "_view_module_version": "1.2.0",
      "_view_name": "LayoutView",
      "align_content": null,
      "align_items": null,
      "align_self": null,
      "border": null,
      "bottom": null,
      "display": null,
      "flex": null,
      "flex_flow": null,
      "grid_area": null,
      "grid_auto_columns": null,
      "grid_auto_flow": null,
      "grid_auto_rows": null,
      "grid_column": null,
      "grid_gap": null,
      "grid_row": null,
      "grid_template_areas": null,
      "grid_template_columns": null,
      "grid_template_rows": null,
      "height": null,
      "justify_content": null,
      "justify_items": null,
      "left": null,
      "margin": null,
      "max_height": null,
      "max_width": null,
      "min_height": null,
      "min_width": null,
      "object_fit": null,
      "object_position": null,
      "order": null,
      "overflow": null,
      "overflow_x": null,
      "overflow_y": null,
      "padding": null,
      "right": null,
      "top": null,
      "visibility": null,
      "width": null
     }
    },
    "1d89dae9fe5a4e61903b93eb04593f7f": {
     "model_module": "@jupyter-widgets/controls",
     "model_module_version": "1.5.0",
     "model_name": "HTMLModel",
     "state": {
      "_dom_classes": [],
      "_model_module": "@jupyter-widgets/controls",
      "_model_module_version": "1.5.0",
      "_model_name": "HTMLModel",
      "_view_count": null,
      "_view_module": "@jupyter-widgets/controls",
      "_view_module_version": "1.5.0",
      "_view_name": "HTMLView",
      "description": "",
      "description_tooltip": null,
      "layout": "IPY_MODEL_e4f27e9204a34c3688a82751435f6468",
      "placeholder": "​",
      "style": "IPY_MODEL_ea9b3da6fb464278a34752e9db5b480f",
      "value": " 1/1 [00:01&lt;00:00,  1.12s/it]"
     }
    },
    "2a40932de0334544bde3f7bb073189ba": {
     "model_module": "@jupyter-widgets/controls",
     "model_module_version": "1.5.0",
     "model_name": "HTMLModel",
     "state": {
      "_dom_classes": [],
      "_model_module": "@jupyter-widgets/controls",
      "_model_module_version": "1.5.0",
      "_model_name": "HTMLModel",
      "_view_count": null,
      "_view_module": "@jupyter-widgets/controls",
      "_view_module_version": "1.5.0",
      "_view_name": "HTMLView",
      "description": "",
      "description_tooltip": null,
      "layout": "IPY_MODEL_af12307bb4294208bd324e5953952669",
      "placeholder": "​",
      "style": "IPY_MODEL_72b18adedaa74c0883a2085a1cedefa5",
      "value": "Generate report structure: 100%"
     }
    },
    "3683c1d2dd704b2caa85bb481739b7ef": {
     "model_module": "@jupyter-widgets/controls",
     "model_module_version": "1.5.0",
     "model_name": "HBoxModel",
     "state": {
      "_dom_classes": [],
      "_model_module": "@jupyter-widgets/controls",
      "_model_module_version": "1.5.0",
      "_model_name": "HBoxModel",
      "_view_count": null,
      "_view_module": "@jupyter-widgets/controls",
      "_view_module_version": "1.5.0",
      "_view_name": "HBoxView",
      "box_style": "",
      "children": [
       "IPY_MODEL_85b70d69138741ad93065995f2ae9f66",
       "IPY_MODEL_40fa340a085e45cbb7b02c1e9bdceeca",
       "IPY_MODEL_1d89dae9fe5a4e61903b93eb04593f7f"
      ],
      "layout": "IPY_MODEL_74f4272954974618885ed4ff3d15840b"
     }
    },
    "3a8b2b9cd4264259a901d2f35ab9177e": {
     "model_module": "@jupyter-widgets/base",
     "model_module_version": "1.2.0",
     "model_name": "LayoutModel",
     "state": {
      "_model_module": "@jupyter-widgets/base",
      "_model_module_version": "1.2.0",
      "_model_name": "LayoutModel",
      "_view_count": null,
      "_view_module": "@jupyter-widgets/base",
      "_view_module_version": "1.2.0",
      "_view_name": "LayoutView",
      "align_content": null,
      "align_items": null,
      "align_self": null,
      "border": null,
      "bottom": null,
      "display": null,
      "flex": null,
      "flex_flow": null,
      "grid_area": null,
      "grid_auto_columns": null,
      "grid_auto_flow": null,
      "grid_auto_rows": null,
      "grid_column": null,
      "grid_gap": null,
      "grid_row": null,
      "grid_template_areas": null,
      "grid_template_columns": null,
      "grid_template_rows": null,
      "height": null,
      "justify_content": null,
      "justify_items": null,
      "left": null,
      "margin": null,
      "max_height": null,
      "max_width": null,
      "min_height": null,
      "min_width": null,
      "object_fit": null,
      "object_position": null,
      "order": null,
      "overflow": null,
      "overflow_x": null,
      "overflow_y": null,
      "padding": null,
      "right": null,
      "top": null,
      "visibility": null,
      "width": null
     }
    },
    "403ed64ef092442caf14f9fd61772ea0": {
     "model_module": "@jupyter-widgets/base",
     "model_module_version": "1.2.0",
     "model_name": "LayoutModel",
     "state": {
      "_model_module": "@jupyter-widgets/base",
      "_model_module_version": "1.2.0",
      "_model_name": "LayoutModel",
      "_view_count": null,
      "_view_module": "@jupyter-widgets/base",
      "_view_module_version": "1.2.0",
      "_view_name": "LayoutView",
      "align_content": null,
      "align_items": null,
      "align_self": null,
      "border": null,
      "bottom": null,
      "display": null,
      "flex": null,
      "flex_flow": null,
      "grid_area": null,
      "grid_auto_columns": null,
      "grid_auto_flow": null,
      "grid_auto_rows": null,
      "grid_column": null,
      "grid_gap": null,
      "grid_row": null,
      "grid_template_areas": null,
      "grid_template_columns": null,
      "grid_template_rows": null,
      "height": null,
      "justify_content": null,
      "justify_items": null,
      "left": null,
      "margin": null,
      "max_height": null,
      "max_width": null,
      "min_height": null,
      "min_width": null,
      "object_fit": null,
      "object_position": null,
      "order": null,
      "overflow": null,
      "overflow_x": null,
      "overflow_y": null,
      "padding": null,
      "right": null,
      "top": null,
      "visibility": null,
      "width": null
     }
    },
    "40fa340a085e45cbb7b02c1e9bdceeca": {
     "model_module": "@jupyter-widgets/controls",
     "model_module_version": "1.5.0",
     "model_name": "FloatProgressModel",
     "state": {
      "_dom_classes": [],
      "_model_module": "@jupyter-widgets/controls",
      "_model_module_version": "1.5.0",
      "_model_name": "FloatProgressModel",
      "_view_count": null,
      "_view_module": "@jupyter-widgets/controls",
      "_view_module_version": "1.5.0",
      "_view_name": "ProgressView",
      "bar_style": "success",
      "description": "",
      "description_tooltip": null,
      "layout": "IPY_MODEL_4617c10275714d14924eccde89dc06cb",
      "max": 1,
      "min": 0,
      "orientation": "horizontal",
      "style": "IPY_MODEL_9fdb78efd1e042278f94454de80102d6",
      "value": 1
     }
    },
    "4617c10275714d14924eccde89dc06cb": {
     "model_module": "@jupyter-widgets/base",
     "model_module_version": "1.2.0",
     "model_name": "LayoutModel",
     "state": {
      "_model_module": "@jupyter-widgets/base",
      "_model_module_version": "1.2.0",
      "_model_name": "LayoutModel",
      "_view_count": null,
      "_view_module": "@jupyter-widgets/base",
      "_view_module_version": "1.2.0",
      "_view_name": "LayoutView",
      "align_content": null,
      "align_items": null,
      "align_self": null,
      "border": null,
      "bottom": null,
      "display": null,
      "flex": null,
      "flex_flow": null,
      "grid_area": null,
      "grid_auto_columns": null,
      "grid_auto_flow": null,
      "grid_auto_rows": null,
      "grid_column": null,
      "grid_gap": null,
      "grid_row": null,
      "grid_template_areas": null,
      "grid_template_columns": null,
      "grid_template_rows": null,
      "height": null,
      "justify_content": null,
      "justify_items": null,
      "left": null,
      "margin": null,
      "max_height": null,
      "max_width": null,
      "min_height": null,
      "min_width": null,
      "object_fit": null,
      "object_position": null,
      "order": null,
      "overflow": null,
      "overflow_x": null,
      "overflow_y": null,
      "padding": null,
      "right": null,
      "top": null,
      "visibility": null,
      "width": null
     }
    },
    "4fcabc21c7b7455ba99a3f233c6e94cc": {
     "model_module": "@jupyter-widgets/controls",
     "model_module_version": "1.5.0",
     "model_name": "HTMLModel",
     "state": {
      "_dom_classes": [],
      "_model_module": "@jupyter-widgets/controls",
      "_model_module_version": "1.5.0",
      "_model_name": "HTMLModel",
      "_view_count": null,
      "_view_module": "@jupyter-widgets/controls",
      "_view_module_version": "1.5.0",
      "_view_name": "HTMLView",
      "description": "",
      "description_tooltip": null,
      "layout": "IPY_MODEL_6743eb6908ae47319ba1de9e251cc606",
      "placeholder": "​",
      "style": "IPY_MODEL_c4ff22e1599b46f39ba7c54b46ee99ef",
      "value": " 56/56 [00:24&lt;00:00,  3.85it/s, Completed]"
     }
    },
    "6743eb6908ae47319ba1de9e251cc606": {
     "model_module": "@jupyter-widgets/base",
     "model_module_version": "1.2.0",
     "model_name": "LayoutModel",
     "state": {
      "_model_module": "@jupyter-widgets/base",
      "_model_module_version": "1.2.0",
      "_model_name": "LayoutModel",
      "_view_count": null,
      "_view_module": "@jupyter-widgets/base",
      "_view_module_version": "1.2.0",
      "_view_name": "LayoutView",
      "align_content": null,
      "align_items": null,
      "align_self": null,
      "border": null,
      "bottom": null,
      "display": null,
      "flex": null,
      "flex_flow": null,
      "grid_area": null,
      "grid_auto_columns": null,
      "grid_auto_flow": null,
      "grid_auto_rows": null,
      "grid_column": null,
      "grid_gap": null,
      "grid_row": null,
      "grid_template_areas": null,
      "grid_template_columns": null,
      "grid_template_rows": null,
      "height": null,
      "justify_content": null,
      "justify_items": null,
      "left": null,
      "margin": null,
      "max_height": null,
      "max_width": null,
      "min_height": null,
      "min_width": null,
      "object_fit": null,
      "object_position": null,
      "order": null,
      "overflow": null,
      "overflow_x": null,
      "overflow_y": null,
      "padding": null,
      "right": null,
      "top": null,
      "visibility": null,
      "width": null
     }
    },
    "72b18adedaa74c0883a2085a1cedefa5": {
     "model_module": "@jupyter-widgets/controls",
     "model_module_version": "1.5.0",
     "model_name": "DescriptionStyleModel",
     "state": {
      "_model_module": "@jupyter-widgets/controls",
      "_model_module_version": "1.5.0",
      "_model_name": "DescriptionStyleModel",
      "_view_count": null,
      "_view_module": "@jupyter-widgets/base",
      "_view_module_version": "1.2.0",
      "_view_name": "StyleView",
      "description_width": ""
     }
    },
    "7368369d4ccc4d5493b8c9695f5a44a4": {
     "model_module": "@jupyter-widgets/controls",
     "model_module_version": "1.5.0",
     "model_name": "ProgressStyleModel",
     "state": {
      "_model_module": "@jupyter-widgets/controls",
      "_model_module_version": "1.5.0",
      "_model_name": "ProgressStyleModel",
      "_view_count": null,
      "_view_module": "@jupyter-widgets/base",
      "_view_module_version": "1.2.0",
      "_view_name": "StyleView",
      "bar_color": null,
      "description_width": ""
     }
    },
    "74f4272954974618885ed4ff3d15840b": {
     "model_module": "@jupyter-widgets/base",
     "model_module_version": "1.2.0",
     "model_name": "LayoutModel",
     "state": {
      "_model_module": "@jupyter-widgets/base",
      "_model_module_version": "1.2.0",
      "_model_name": "LayoutModel",
      "_view_count": null,
      "_view_module": "@jupyter-widgets/base",
      "_view_module_version": "1.2.0",
      "_view_name": "LayoutView",
      "align_content": null,
      "align_items": null,
      "align_self": null,
      "border": null,
      "bottom": null,
      "display": null,
      "flex": null,
      "flex_flow": null,
      "grid_area": null,
      "grid_auto_columns": null,
      "grid_auto_flow": null,
      "grid_auto_rows": null,
      "grid_column": null,
      "grid_gap": null,
      "grid_row": null,
      "grid_template_areas": null,
      "grid_template_columns": null,
      "grid_template_rows": null,
      "height": null,
      "justify_content": null,
      "justify_items": null,
      "left": null,
      "margin": null,
      "max_height": null,
      "max_width": null,
      "min_height": null,
      "min_width": null,
      "object_fit": null,
      "object_position": null,
      "order": null,
      "overflow": null,
      "overflow_x": null,
      "overflow_y": null,
      "padding": null,
      "right": null,
      "top": null,
      "visibility": null,
      "width": null
     }
    },
    "7b1a82b91a8942c18fa1a379357705dd": {
     "model_module": "@jupyter-widgets/controls",
     "model_module_version": "1.5.0",
     "model_name": "DescriptionStyleModel",
     "state": {
      "_model_module": "@jupyter-widgets/controls",
      "_model_module_version": "1.5.0",
      "_model_name": "DescriptionStyleModel",
      "_view_count": null,
      "_view_module": "@jupyter-widgets/base",
      "_view_module_version": "1.2.0",
      "_view_name": "StyleView",
      "description_width": ""
     }
    },
    "8250cf63f80f4ed69f27b6b2f9731244": {
     "model_module": "@jupyter-widgets/controls",
     "model_module_version": "1.5.0",
     "model_name": "HTMLModel",
     "state": {
      "_dom_classes": [],
      "_model_module": "@jupyter-widgets/controls",
      "_model_module_version": "1.5.0",
      "_model_name": "HTMLModel",
      "_view_count": null,
      "_view_module": "@jupyter-widgets/controls",
      "_view_module_version": "1.5.0",
      "_view_name": "HTMLView",
      "description": "",
      "description_tooltip": null,
      "layout": "IPY_MODEL_a3955e142fb64a96b14f8ce6882bb601",
      "placeholder": "​",
      "style": "IPY_MODEL_7b1a82b91a8942c18fa1a379357705dd",
      "value": " 1/1 [00:07&lt;00:00,  7.71s/it]"
     }
    },
    "85b70d69138741ad93065995f2ae9f66": {
     "model_module": "@jupyter-widgets/controls",
     "model_module_version": "1.5.0",
     "model_name": "HTMLModel",
     "state": {
      "_dom_classes": [],
      "_model_module": "@jupyter-widgets/controls",
      "_model_module_version": "1.5.0",
      "_model_name": "HTMLModel",
      "_view_count": null,
      "_view_module": "@jupyter-widgets/controls",
      "_view_module_version": "1.5.0",
      "_view_name": "HTMLView",
      "description": "",
      "description_tooltip": null,
      "layout": "IPY_MODEL_b8474ceba12e4fdda935c48ea0c23d96",
      "placeholder": "​",
      "style": "IPY_MODEL_af3236b9233941789268a2079bc50054",
      "value": "Render HTML: 100%"
     }
    },
    "875fd453851940d59fdb8cb0249413e4": {
     "model_module": "@jupyter-widgets/controls",
     "model_module_version": "1.5.0",
     "model_name": "HTMLModel",
     "state": {
      "_dom_classes": [],
      "_model_module": "@jupyter-widgets/controls",
      "_model_module_version": "1.5.0",
      "_model_name": "HTMLModel",
      "_view_count": null,
      "_view_module": "@jupyter-widgets/controls",
      "_view_module_version": "1.5.0",
      "_view_name": "HTMLView",
      "description": "",
      "description_tooltip": null,
      "layout": "IPY_MODEL_0d23dda725c74cb0b4d3e514cb93b7b3",
      "placeholder": "​",
      "style": "IPY_MODEL_d6006d810ac64d999cda2109c888e9f2",
      "value": "Summarize dataset: 100%"
     }
    },
    "8bc9a3993e2346099c513fc4d92268ed": {
     "model_module": "@jupyter-widgets/base",
     "model_module_version": "1.2.0",
     "model_name": "LayoutModel",
     "state": {
      "_model_module": "@jupyter-widgets/base",
      "_model_module_version": "1.2.0",
      "_model_name": "LayoutModel",
      "_view_count": null,
      "_view_module": "@jupyter-widgets/base",
      "_view_module_version": "1.2.0",
      "_view_name": "LayoutView",
      "align_content": null,
      "align_items": null,
      "align_self": null,
      "border": null,
      "bottom": null,
      "display": null,
      "flex": null,
      "flex_flow": null,
      "grid_area": null,
      "grid_auto_columns": null,
      "grid_auto_flow": null,
      "grid_auto_rows": null,
      "grid_column": null,
      "grid_gap": null,
      "grid_row": null,
      "grid_template_areas": null,
      "grid_template_columns": null,
      "grid_template_rows": null,
      "height": null,
      "justify_content": null,
      "justify_items": null,
      "left": null,
      "margin": null,
      "max_height": null,
      "max_width": null,
      "min_height": null,
      "min_width": null,
      "object_fit": null,
      "object_position": null,
      "order": null,
      "overflow": null,
      "overflow_x": null,
      "overflow_y": null,
      "padding": null,
      "right": null,
      "top": null,
      "visibility": null,
      "width": null
     }
    },
    "9e7e66caa43943d1b5fbc774900c5f4a": {
     "model_module": "@jupyter-widgets/controls",
     "model_module_version": "1.5.0",
     "model_name": "HBoxModel",
     "state": {
      "_dom_classes": [],
      "_model_module": "@jupyter-widgets/controls",
      "_model_module_version": "1.5.0",
      "_model_name": "HBoxModel",
      "_view_count": null,
      "_view_module": "@jupyter-widgets/controls",
      "_view_module_version": "1.5.0",
      "_view_name": "HBoxView",
      "box_style": "",
      "children": [
       "IPY_MODEL_875fd453851940d59fdb8cb0249413e4",
       "IPY_MODEL_a91d124af25d40c5a0e459c0fedb4a87",
       "IPY_MODEL_4fcabc21c7b7455ba99a3f233c6e94cc"
      ],
      "layout": "IPY_MODEL_3a8b2b9cd4264259a901d2f35ab9177e"
     }
    },
    "9fdb78efd1e042278f94454de80102d6": {
     "model_module": "@jupyter-widgets/controls",
     "model_module_version": "1.5.0",
     "model_name": "ProgressStyleModel",
     "state": {
      "_model_module": "@jupyter-widgets/controls",
      "_model_module_version": "1.5.0",
      "_model_name": "ProgressStyleModel",
      "_view_count": null,
      "_view_module": "@jupyter-widgets/base",
      "_view_module_version": "1.2.0",
      "_view_name": "StyleView",
      "bar_color": null,
      "description_width": ""
     }
    },
    "a3955e142fb64a96b14f8ce6882bb601": {
     "model_module": "@jupyter-widgets/base",
     "model_module_version": "1.2.0",
     "model_name": "LayoutModel",
     "state": {
      "_model_module": "@jupyter-widgets/base",
      "_model_module_version": "1.2.0",
      "_model_name": "LayoutModel",
      "_view_count": null,
      "_view_module": "@jupyter-widgets/base",
      "_view_module_version": "1.2.0",
      "_view_name": "LayoutView",
      "align_content": null,
      "align_items": null,
      "align_self": null,
      "border": null,
      "bottom": null,
      "display": null,
      "flex": null,
      "flex_flow": null,
      "grid_area": null,
      "grid_auto_columns": null,
      "grid_auto_flow": null,
      "grid_auto_rows": null,
      "grid_column": null,
      "grid_gap": null,
      "grid_row": null,
      "grid_template_areas": null,
      "grid_template_columns": null,
      "grid_template_rows": null,
      "height": null,
      "justify_content": null,
      "justify_items": null,
      "left": null,
      "margin": null,
      "max_height": null,
      "max_width": null,
      "min_height": null,
      "min_width": null,
      "object_fit": null,
      "object_position": null,
      "order": null,
      "overflow": null,
      "overflow_x": null,
      "overflow_y": null,
      "padding": null,
      "right": null,
      "top": null,
      "visibility": null,
      "width": null
     }
    },
    "a91d124af25d40c5a0e459c0fedb4a87": {
     "model_module": "@jupyter-widgets/controls",
     "model_module_version": "1.5.0",
     "model_name": "FloatProgressModel",
     "state": {
      "_dom_classes": [],
      "_model_module": "@jupyter-widgets/controls",
      "_model_module_version": "1.5.0",
      "_model_name": "FloatProgressModel",
      "_view_count": null,
      "_view_module": "@jupyter-widgets/controls",
      "_view_module_version": "1.5.0",
      "_view_name": "ProgressView",
      "bar_style": "success",
      "description": "",
      "description_tooltip": null,
      "layout": "IPY_MODEL_403ed64ef092442caf14f9fd61772ea0",
      "max": 5,
      "min": 0,
      "orientation": "horizontal",
      "style": "IPY_MODEL_7368369d4ccc4d5493b8c9695f5a44a4",
      "value": 5
     }
    },
    "af12307bb4294208bd324e5953952669": {
     "model_module": "@jupyter-widgets/base",
     "model_module_version": "1.2.0",
     "model_name": "LayoutModel",
     "state": {
      "_model_module": "@jupyter-widgets/base",
      "_model_module_version": "1.2.0",
      "_model_name": "LayoutModel",
      "_view_count": null,
      "_view_module": "@jupyter-widgets/base",
      "_view_module_version": "1.2.0",
      "_view_name": "LayoutView",
      "align_content": null,
      "align_items": null,
      "align_self": null,
      "border": null,
      "bottom": null,
      "display": null,
      "flex": null,
      "flex_flow": null,
      "grid_area": null,
      "grid_auto_columns": null,
      "grid_auto_flow": null,
      "grid_auto_rows": null,
      "grid_column": null,
      "grid_gap": null,
      "grid_row": null,
      "grid_template_areas": null,
      "grid_template_columns": null,
      "grid_template_rows": null,
      "height": null,
      "justify_content": null,
      "justify_items": null,
      "left": null,
      "margin": null,
      "max_height": null,
      "max_width": null,
      "min_height": null,
      "min_width": null,
      "object_fit": null,
      "object_position": null,
      "order": null,
      "overflow": null,
      "overflow_x": null,
      "overflow_y": null,
      "padding": null,
      "right": null,
      "top": null,
      "visibility": null,
      "width": null
     }
    },
    "af3236b9233941789268a2079bc50054": {
     "model_module": "@jupyter-widgets/controls",
     "model_module_version": "1.5.0",
     "model_name": "DescriptionStyleModel",
     "state": {
      "_model_module": "@jupyter-widgets/controls",
      "_model_module_version": "1.5.0",
      "_model_name": "DescriptionStyleModel",
      "_view_count": null,
      "_view_module": "@jupyter-widgets/base",
      "_view_module_version": "1.2.0",
      "_view_name": "StyleView",
      "description_width": ""
     }
    },
    "b4b1c4969fcd408196296086d8657efd": {
     "model_module": "@jupyter-widgets/controls",
     "model_module_version": "1.5.0",
     "model_name": "ProgressStyleModel",
     "state": {
      "_model_module": "@jupyter-widgets/controls",
      "_model_module_version": "1.5.0",
      "_model_name": "ProgressStyleModel",
      "_view_count": null,
      "_view_module": "@jupyter-widgets/base",
      "_view_module_version": "1.2.0",
      "_view_name": "StyleView",
      "bar_color": null,
      "description_width": ""
     }
    },
    "b8474ceba12e4fdda935c48ea0c23d96": {
     "model_module": "@jupyter-widgets/base",
     "model_module_version": "1.2.0",
     "model_name": "LayoutModel",
     "state": {
      "_model_module": "@jupyter-widgets/base",
      "_model_module_version": "1.2.0",
      "_model_name": "LayoutModel",
      "_view_count": null,
      "_view_module": "@jupyter-widgets/base",
      "_view_module_version": "1.2.0",
      "_view_name": "LayoutView",
      "align_content": null,
      "align_items": null,
      "align_self": null,
      "border": null,
      "bottom": null,
      "display": null,
      "flex": null,
      "flex_flow": null,
      "grid_area": null,
      "grid_auto_columns": null,
      "grid_auto_flow": null,
      "grid_auto_rows": null,
      "grid_column": null,
      "grid_gap": null,
      "grid_row": null,
      "grid_template_areas": null,
      "grid_template_columns": null,
      "grid_template_rows": null,
      "height": null,
      "justify_content": null,
      "justify_items": null,
      "left": null,
      "margin": null,
      "max_height": null,
      "max_width": null,
      "min_height": null,
      "min_width": null,
      "object_fit": null,
      "object_position": null,
      "order": null,
      "overflow": null,
      "overflow_x": null,
      "overflow_y": null,
      "padding": null,
      "right": null,
      "top": null,
      "visibility": null,
      "width": null
     }
    },
    "c3d95eab931c40d1a8708896a86faa93": {
     "model_module": "@jupyter-widgets/base",
     "model_module_version": "1.2.0",
     "model_name": "LayoutModel",
     "state": {
      "_model_module": "@jupyter-widgets/base",
      "_model_module_version": "1.2.0",
      "_model_name": "LayoutModel",
      "_view_count": null,
      "_view_module": "@jupyter-widgets/base",
      "_view_module_version": "1.2.0",
      "_view_name": "LayoutView",
      "align_content": null,
      "align_items": null,
      "align_self": null,
      "border": null,
      "bottom": null,
      "display": null,
      "flex": null,
      "flex_flow": null,
      "grid_area": null,
      "grid_auto_columns": null,
      "grid_auto_flow": null,
      "grid_auto_rows": null,
      "grid_column": null,
      "grid_gap": null,
      "grid_row": null,
      "grid_template_areas": null,
      "grid_template_columns": null,
      "grid_template_rows": null,
      "height": null,
      "justify_content": null,
      "justify_items": null,
      "left": null,
      "margin": null,
      "max_height": null,
      "max_width": null,
      "min_height": null,
      "min_width": null,
      "object_fit": null,
      "object_position": null,
      "order": null,
      "overflow": null,
      "overflow_x": null,
      "overflow_y": null,
      "padding": null,
      "right": null,
      "top": null,
      "visibility": null,
      "width": null
     }
    },
    "c4ff22e1599b46f39ba7c54b46ee99ef": {
     "model_module": "@jupyter-widgets/controls",
     "model_module_version": "1.5.0",
     "model_name": "DescriptionStyleModel",
     "state": {
      "_model_module": "@jupyter-widgets/controls",
      "_model_module_version": "1.5.0",
      "_model_name": "DescriptionStyleModel",
      "_view_count": null,
      "_view_module": "@jupyter-widgets/base",
      "_view_module_version": "1.2.0",
      "_view_name": "StyleView",
      "description_width": ""
     }
    },
    "d6006d810ac64d999cda2109c888e9f2": {
     "model_module": "@jupyter-widgets/controls",
     "model_module_version": "1.5.0",
     "model_name": "DescriptionStyleModel",
     "state": {
      "_model_module": "@jupyter-widgets/controls",
      "_model_module_version": "1.5.0",
      "_model_name": "DescriptionStyleModel",
      "_view_count": null,
      "_view_module": "@jupyter-widgets/base",
      "_view_module_version": "1.2.0",
      "_view_name": "StyleView",
      "description_width": ""
     }
    },
    "e4f27e9204a34c3688a82751435f6468": {
     "model_module": "@jupyter-widgets/base",
     "model_module_version": "1.2.0",
     "model_name": "LayoutModel",
     "state": {
      "_model_module": "@jupyter-widgets/base",
      "_model_module_version": "1.2.0",
      "_model_name": "LayoutModel",
      "_view_count": null,
      "_view_module": "@jupyter-widgets/base",
      "_view_module_version": "1.2.0",
      "_view_name": "LayoutView",
      "align_content": null,
      "align_items": null,
      "align_self": null,
      "border": null,
      "bottom": null,
      "display": null,
      "flex": null,
      "flex_flow": null,
      "grid_area": null,
      "grid_auto_columns": null,
      "grid_auto_flow": null,
      "grid_auto_rows": null,
      "grid_column": null,
      "grid_gap": null,
      "grid_row": null,
      "grid_template_areas": null,
      "grid_template_columns": null,
      "grid_template_rows": null,
      "height": null,
      "justify_content": null,
      "justify_items": null,
      "left": null,
      "margin": null,
      "max_height": null,
      "max_width": null,
      "min_height": null,
      "min_width": null,
      "object_fit": null,
      "object_position": null,
      "order": null,
      "overflow": null,
      "overflow_x": null,
      "overflow_y": null,
      "padding": null,
      "right": null,
      "top": null,
      "visibility": null,
      "width": null
     }
    },
    "ea9b3da6fb464278a34752e9db5b480f": {
     "model_module": "@jupyter-widgets/controls",
     "model_module_version": "1.5.0",
     "model_name": "DescriptionStyleModel",
     "state": {
      "_model_module": "@jupyter-widgets/controls",
      "_model_module_version": "1.5.0",
      "_model_name": "DescriptionStyleModel",
      "_view_count": null,
      "_view_module": "@jupyter-widgets/base",
      "_view_module_version": "1.2.0",
      "_view_name": "StyleView",
      "description_width": ""
     }
    }
   }
  }
 },
 "nbformat": 4,
 "nbformat_minor": 4
}
